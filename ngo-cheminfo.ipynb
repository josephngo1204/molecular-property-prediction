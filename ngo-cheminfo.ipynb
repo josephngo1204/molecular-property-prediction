{
 "cells": [
  {
   "cell_type": "markdown",
   "id": "9fcc24d8-0081-4ed1-add4-ac323c478324",
   "metadata": {
    "tags": []
   },
   "source": [
    "## Chemical Descriptors\n",
    "\n",
    "Comparing the performance of LassoCV (with and without PCA) and RandomForest models :)"
   ]
  },
  {
   "cell_type": "code",
   "execution_count": 1,
   "id": "12030599-3f29-4369-8b82-e065d9cd0d21",
   "metadata": {},
   "outputs": [],
   "source": [
    "# loading all necessary libraries + functions\n",
    "\n",
    "%matplotlib inline\n",
    "from matplotlib import pyplot as plt\n",
    "from rdkit import Chem \n",
    "from rdkit.Chem import AllChem \n",
    "import pandas as pd\n",
    "import numpy as np\n",
    "import gzip\n",
    "import json"
   ]
  },
  {
   "cell_type": "markdown",
   "id": "8b89c101-20ab-4ac2-8cfe-b40bfb15d161",
   "metadata": {},
   "source": [
    "preprocessing!"
   ]
  },
  {
   "cell_type": "code",
   "execution_count": 2,
   "id": "2071c7ca-bac1-4501-a13b-868887faaf2a",
   "metadata": {},
   "outputs": [],
   "source": [
    "data_path = '../datasets/qm9.json.gz' # downloading entire QM9 dataset and parsing into a pandas DataFrame\n",
    "data = pd.read_json(data_path, lines=True)\n",
    "data['mol'] = data['smiles_0'].apply(Chem.MolFromSmiles)"
   ]
  },
  {
   "cell_type": "code",
   "execution_count": 3,
   "id": "7a6ea5aa-096f-4cfd-9b06-58c9204c28e8",
   "metadata": {
    "tags": []
   },
   "outputs": [
    {
     "name": "stderr",
     "output_type": "stream",
     "text": [
      "100%|████████████████████████████████████████████████████████████████████████████| 25000/25000 [05:33<00:00, 74.95it/s]\n"
     ]
    }
   ],
   "source": [
    "from mordred import Calculator, descriptors\n",
    "\n",
    "calc = Calculator(descriptors, ignore_3D=True) # using Mordred to compute features into numpy array\n",
    "feats = calc.pandas(data['mol'])"
   ]
  },
  {
   "cell_type": "code",
   "execution_count": 5,
   "id": "e9e07b77-2ec5-4c20-b7b7-f76a73d90efa",
   "metadata": {},
   "outputs": [],
   "source": [
    "missing_values = feats.isnull().any() # removing any missing values and converting all data to float\n",
    "feats = feats.loc[:, ~missing_values].astype(float)"
   ]
  },
  {
   "cell_type": "code",
   "execution_count": 6,
   "id": "614eecff-f4b8-4b40-8bf8-109aac60c270",
   "metadata": {},
   "outputs": [],
   "source": [
    "from sklearn.model_selection import train_test_split  # splitting data and features into training and test sets\n",
    "\n",
    "train_data, test_data, train_feats, test_feats = train_test_split(data, feats, train_size=10000, test_size=2000) # creating distinct training + test datasets"
   ]
  },
  {
   "cell_type": "markdown",
   "id": "be1018ab-a967-4f6e-bda0-b65dd28a0061",
   "metadata": {},
   "source": [
    "### Training LassoCV models (w/ and w/out PCA)"
   ]
  },
  {
   "cell_type": "code",
   "execution_count": 7,
   "id": "443909f2-88d3-41cd-884d-200ed5c2cb3f",
   "metadata": {
    "tags": []
   },
   "outputs": [],
   "source": [
    "from sklearn.linear_model import LassoCV # LassoCV model w/out PCA\n",
    "lasso = LassoCV(max_iter=1000000).fit(train_feats, train_data['bandgap'])"
   ]
  },
  {
   "cell_type": "code",
   "execution_count": 8,
   "id": "404bddfe-bdb8-41eb-bb73-41064c1f6e47",
   "metadata": {
    "tags": []
   },
   "outputs": [],
   "source": [
    "from sklearn.decomposition import PCA # LassoCV model w/ PCA to compress data to 8 features \n",
    "pca = PCA().fit(train_feats, test_feats)\n",
    "pca.n_components = 8\n",
    "pca_train_feats = pca.fit_transform(train_feats)\n",
    "pca_test_feats = pca.fit_transform(test_feats)\n",
    "lasso_pca = LassoCV().fit(pca_train_feats, train_data['bandgap'])"
   ]
  },
  {
   "cell_type": "markdown",
   "id": "b5c010ab-cb9b-4835-8832-13584aab7149",
   "metadata": {},
   "source": [
    "### Training a RandomForest model"
   ]
  },
  {
   "cell_type": "code",
   "execution_count": 9,
   "id": "86d4238a-f93b-4eca-9482-f2772526b243",
   "metadata": {},
   "outputs": [],
   "source": [
    "from sklearn.ensemble import RandomForestRegressor\n",
    "rf = RandomForestRegressor()\n",
    "rf = rf.fit(train_feats, train_data['bandgap'])"
   ]
  },
  {
   "cell_type": "markdown",
   "id": "b1de1e40-7cd0-49bf-84cf-c28888fddbed",
   "metadata": {},
   "source": [
    "### Plotting Learning Curves (effect of training size on mean absolute error)"
   ]
  },
  {
   "cell_type": "markdown",
   "id": "5b1b9517-c903-43de-a8e6-34d34fbb2ca1",
   "metadata": {},
   "source": [
    "##### LassoCV with PCA (better performance than LassoCV w/out PCA)"
   ]
  },
  {
   "cell_type": "code",
   "execution_count": 10,
   "id": "80de047e-f74e-4088-80a9-df67d89f11c3",
   "metadata": {
    "tags": []
   },
   "outputs": [
    {
     "name": "stderr",
     "output_type": "stream",
     "text": [
      "100%|████████████████████████████████████████████████████████████████████████████████████| 3/3 [00:08<00:00,  2.85s/it]\n"
     ]
    }
   ],
   "source": [
    "from tqdm import tqdm\n",
    "from sklearn.metrics import r2_score, mean_absolute_error\n",
    "\n",
    "results = []\n",
    "    \n",
    "for s in tqdm([10, 100, 1000]):  # loop over different training set sizes\n",
    "    for i in range(16):  # repeat the experiment\n",
    "        subset_data = train_data.sample(s)  # downselect training sets to the desired size\n",
    "        subset_feats = train_feats.sample(s)\n",
    "        \n",
    "        pca = PCA().fit(subset_feats, test_feats) # training LassoCV model with PCA\n",
    "        pca.n_components = 8\n",
    "        pca_train_feats = pca.fit_transform(subset_feats)\n",
    "        pca_test_feats = pca.fit_transform(test_feats)\n",
    "        lasso_pca = LassoCV(max_iter=1000000).fit(pca_train_feats, subset_data['bandgap'])\n",
    "        y_pred = lasso_pca.predict(pca_test_feats)\n",
    "\n",
    "        results.append({\n",
    "                'train_size': s,\n",
    "                'iteration': i,\n",
    "                'r2_score': r2_score(test_data['bandgap'], y_pred),\n",
    "                'mae': mean_absolute_error(test_data['bandgap'], y_pred)\n",
    "            })\n",
    "results = pd.DataFrame(results)  # Converts to a dataframe"
   ]
  },
  {
   "cell_type": "code",
   "execution_count": 11,
   "id": "ab3a67f2-13a5-4efb-8923-115ac6fd491d",
   "metadata": {},
   "outputs": [],
   "source": [
    "results.to_csv('test.csv')"
   ]
  },
  {
   "cell_type": "code",
   "execution_count": 12,
   "id": "34397e39-328f-48e7-928a-1936c5ddb096",
   "metadata": {},
   "outputs": [
    {
     "data": {
      "image/png": "[encoded data removed]",
      "text/plain": [
       "<Figure size 432x288 with 1 Axes>"
      ]
     },
     "metadata": {
      "needs_background": "light"
     },
     "output_type": "display_data"
    }
   ],
   "source": [
    "fig, ax = plt.subplots()\n",
    "\n",
    "group_stats = results.groupby('train_size').mean()\n",
    "ax.loglog(group_stats.index, group_stats['mae'], '--o', label=f'Lasso Model with PCA') \n",
    "ax.legend()\n",
    "\n",
    "ax.set_xlabel('Train Size')\n",
    "ax.set_ylabel('MAE')\n",
    "fig.tight_layout()"
   ]
  },
  {
   "cell_type": "markdown",
   "id": "1a444128-bd27-4a43-98a2-facca56e3585",
   "metadata": {},
   "source": [
    "##### LassoCV without PCA"
   ]
  },
  {
   "cell_type": "code",
   "execution_count": 13,
   "id": "bcc227f9-c2a3-4492-9319-c9dc71c3d430",
   "metadata": {
    "tags": []
   },
   "outputs": [
    {
     "name": "stderr",
     "output_type": "stream",
     "text": [
      "100%|████████████████████████████████████████████████████████████████████████████████| 3/3 [1:21:37<00:00, 1632.66s/it]\n"
     ]
    }
   ],
   "source": [
    "from tqdm import tqdm\n",
    "from sklearn.metrics import r2_score, mean_absolute_error\n",
    "\n",
    "results = []\n",
    "\n",
    "for s in tqdm([10, 100, 1000]):  # loop over different training set sizes\n",
    "    for i in range(16):  # repeat the experiment\n",
    "        subset_data = train_data.sample(s)  # downselect to the desired size\n",
    "        subset_feats = train_feats.sample(s)\n",
    "        \n",
    "        # train and test the model\n",
    "        lasso = lasso.fit(subset_feats, subset_data['bandgap'])\n",
    "        y_pred = lasso.predict(test_feats)\n",
    "\n",
    "        results.append({\n",
    "                'train_size': s,\n",
    "                'iteration': i,\n",
    "                'r2_score': r2_score(test_data['bandgap'], y_pred),\n",
    "                'mae': mean_absolute_error(test_data['bandgap'], y_pred)\n",
    "            })\n",
    "results = pd.DataFrame(results)  # Converts to a dataframe"
   ]
  },
  {
   "cell_type": "code",
   "execution_count": 14,
   "id": "b7c28b5a-9fac-40d7-a468-dfe44283d4f5",
   "metadata": {},
   "outputs": [
    {
     "data": {
      "image/png": "[encoded data removed]",
      "text/plain": [
       "<Figure size 432x288 with 1 Axes>"
      ]
     },
     "metadata": {
      "needs_background": "light"
     },
     "output_type": "display_data"
    }
   ],
   "source": [
    "results.to_csv('test.csv')\n",
    "fig, ax = plt.subplots()\n",
    "\n",
    "group_stats = results.groupby('train_size').mean()\n",
    "ax.loglog(group_stats.index, group_stats['mae'], '--o', label=f'Lasso Model w/out PCA') \n",
    "ax.legend()\n",
    "\n",
    "ax.set_xlabel('Train Size')\n",
    "ax.set_ylabel('MAE')\n",
    "fig.tight_layout()"
   ]
  },
  {
   "cell_type": "markdown",
   "id": "811c31df-8575-4df4-bf03-e6cdf08e7da7",
   "metadata": {},
   "source": [
    "##### RandomForest "
   ]
  },
  {
   "cell_type": "code",
   "execution_count": 15,
   "id": "e386e92d-6e6f-4dff-bde7-fb47452adc16",
   "metadata": {},
   "outputs": [
    {
     "name": "stderr",
     "output_type": "stream",
     "text": [
      "100%|███████████████████████████████████████████████████████████████████████████████████| 3/3 [08:23<00:00, 167.70s/it]\n"
     ]
    }
   ],
   "source": [
    "from tqdm import tqdm\n",
    "from sklearn.metrics import r2_score, mean_absolute_error\n",
    "\n",
    "results = []\n",
    "\n",
    "for s in tqdm([10, 100, 1000]):  # Loop over different training set sizes\n",
    "    for i in range(16):  # Repeat the experiment\n",
    "        subset_data = train_data.sample(s)  # Downselect to the desired size\n",
    "        subset_feats = train_feats.sample(s)\n",
    "        \n",
    "            # Train and test the model\n",
    "        rf = rf.fit(subset_feats, subset_data['bandgap'])\n",
    "        y_pred = rf.predict(test_feats)\n",
    "\n",
    "        results.append({\n",
    "                'train_size': s,\n",
    "                'iteration': i,\n",
    "                'r2_score': r2_score(test_data['bandgap'], y_pred),\n",
    "                'mae': mean_absolute_error(test_data['bandgap'], y_pred)\n",
    "            })\n",
    "results = pd.DataFrame(results)  # Converts to a dataframe"
   ]
  },
  {
   "cell_type": "code",
   "execution_count": 16,
   "id": "41ec6a28-1c54-4614-8011-d9760f6ae46d",
   "metadata": {},
   "outputs": [
    {
     "data": {
      "image/png": "[encoded data removed]",
      "text/plain": [
       "<Figure size 432x288 with 1 Axes>"
      ]
     },
     "metadata": {
      "needs_background": "light"
     },
     "output_type": "display_data"
    }
   ],
   "source": [
    "results.to_csv('test.csv')\n",
    "fig, ax = plt.subplots()\n",
    "\n",
    "group_stats = results.groupby('train_size').mean()\n",
    "ax.loglog(group_stats.index, group_stats['mae'], '--o', label=f'Random Forest') \n",
    "ax.legend()\n",
    "\n",
    "ax.set_xlabel('Train Size')\n",
    "ax.set_ylabel('MAE')\n",
    "fig.tight_layout()"
   ]
  },
  {
   "cell_type": "markdown",
   "id": "e273bc9a-3999-41b9-84b9-c17ccfa49366",
   "metadata": {},
   "source": [
    "### Ranking Top Features for LASSOCV and Random Forest"
   ]
  },
  {
   "cell_type": "code",
   "execution_count": 17,
   "id": "9bd11449-21b3-4f81-9a15-ea6cfcd318e1",
   "metadata": {
    "tags": []
   },
   "outputs": [
    {
     "data": {
      "text/plain": [
       "array([680, 904, 634, ..., 745, 157, 261], dtype=int64)"
      ]
     },
     "execution_count": 17,
     "metadata": {},
     "output_type": "execute_result"
    }
   ],
   "source": [
    "importance_rf = np.argsort(rf.feature_importances_)\n",
    "importance_rf"
   ]
  },
  {
   "cell_type": "code",
   "execution_count": 18,
   "id": "ba70f56d-8a71-44fb-a919-529d61ac3bc8",
   "metadata": {
    "tags": []
   },
   "outputs": [
    {
     "name": "stdout",
     "output_type": "stream",
     "text": [
      "[   0  702  703 ...  364  350 1066]\n"
     ]
    }
   ],
   "source": [
    "importance_lasso = np.argsort(lasso.coef_)\n",
    "print(importance_lasso)"
   ]
  },
  {
   "cell_type": "code",
   "execution_count": 19,
   "id": "69389b95-b9e4-441e-9814-968670542f55",
   "metadata": {},
   "outputs": [],
   "source": [
    "set_rf = set(importance_rf[:10])\n",
    "set_lasso = set(importance_lasso[:10])"
   ]
  },
  {
   "cell_type": "code",
   "execution_count": 20,
   "id": "efdf55ef-2d1b-4f14-9c64-a77fb13004c6",
   "metadata": {},
   "outputs": [
    {
     "data": {
      "text/plain": [
       "{0,\n",
       " 634,\n",
       " 680,\n",
       " 686,\n",
       " 702,\n",
       " 703,\n",
       " 704,\n",
       " 705,\n",
       " 706,\n",
       " 707,\n",
       " 708,\n",
       " 709,\n",
       " 710,\n",
       " 904,\n",
       " 906,\n",
       " 907,\n",
       " 909,\n",
       " 910,\n",
       " 913,\n",
       " 914}"
      ]
     },
     "execution_count": 20,
     "metadata": {},
     "output_type": "execute_result"
    }
   ],
   "source": [
    "top_set = set_rf.union(set_lasso)\n",
    "top_set # DIFFERENT top features for LassoCV + Random forest because measuring TWO DIFFERENT THINGS (lasso models correlation with data, Random Forest measures improvement in accuracy)"
   ]
  },
  {
   "cell_type": "markdown",
   "id": "075d30f0-4b7d-4c8c-a657-48b5fd4a946b",
   "metadata": {},
   "source": [
    "### Calculating correlation between top ten features in each model"
   ]
  },
  {
   "cell_type": "markdown",
   "id": "9b6e0f17-61fe-4cd4-8ce8-f391871f8984",
   "metadata": {},
   "source": [
    "##### LassoCV without PCA"
   ]
  },
  {
   "cell_type": "code",
   "execution_count": 21,
   "id": "32189706-be54-4b45-a512-04056f739967",
   "metadata": {},
   "outputs": [
    {
     "name": "stdout",
     "output_type": "stream",
     "text": [
      "[[1.         0.97064787 0.90912775 0.95316473 0.92132692 0.94981303\n",
      "  0.93907574 0.90828917 0.96380008 0.97452875]\n",
      " [0.97064787 1.         0.90944363 0.99546529 0.91926451 0.95500143\n",
      "  0.97206697 0.90140758 0.97383771 0.96629466]\n",
      " [0.90912775 0.90944363 1.         0.90066636 0.99681834 0.96505027\n",
      "  0.93969938 0.98303862 0.97342735 0.96515096]\n",
      " [0.95316473 0.99546529 0.90066636 1.         0.90656918 0.94644354\n",
      "  0.96959793 0.89563161 0.96662937 0.95216913]\n",
      " [0.92132692 0.91926451 0.99681834 0.90656918 1.         0.97480035\n",
      "  0.94832619 0.98111316 0.97861537 0.97112274]\n",
      " [0.94981303 0.95500143 0.96505027 0.94644354 0.97480035 1.\n",
      "  0.97406902 0.96004507 0.98924716 0.97486031]\n",
      " [0.93907574 0.97206697 0.93969938 0.96959793 0.94832619 0.97406902\n",
      "  1.         0.94265553 0.97654918 0.94721301]\n",
      " [0.90828917 0.90140758 0.98303862 0.89563161 0.98111316 0.96004507\n",
      "  0.94265553 1.         0.96634765 0.94110235]\n",
      " [0.96380008 0.97383771 0.97342735 0.96662937 0.97861537 0.98924716\n",
      "  0.97654918 0.96634765 1.         0.98710596]\n",
      " [0.97452875 0.96629466 0.96515096 0.95216913 0.97112274 0.97486031\n",
      "  0.94721301 0.94110235 0.98710596 1.        ]]\n"
     ]
    }
   ],
   "source": [
    "cross_corr_lasso = np.corrcoef(feats.loc[importance_lasso][:10])\n",
    "print(cross_corr_lasso)"
   ]
  },
  {
   "cell_type": "markdown",
   "id": "ee1973ca-e12b-4253-9a77-281a0192a435",
   "metadata": {},
   "source": [
    "##### RandomForest"
   ]
  },
  {
   "cell_type": "code",
   "execution_count": 22,
   "id": "2e284391-bf7e-4101-ba07-557e384f97dc",
   "metadata": {},
   "outputs": [
    {
     "name": "stdout",
     "output_type": "stream",
     "text": [
      "[[1.         0.92109121 0.92153689 0.95088285 0.91490477 0.89484375\n",
      "  0.98246201 0.95420875 0.98465118 0.91678258]\n",
      " [0.92109121 1.         0.9747437  0.98441959 0.98806569 0.95650432\n",
      "  0.93393289 0.93910857 0.94599361 0.97044451]\n",
      " [0.92153689 0.9747437  1.         0.96719906 0.96995841 0.91884932\n",
      "  0.93289081 0.95076537 0.95716824 0.94503775]\n",
      " [0.95088285 0.98441959 0.96719906 1.         0.98478008 0.96887449\n",
      "  0.97114331 0.97370257 0.97610452 0.98104288]\n",
      " [0.91490477 0.98806569 0.96995841 0.98478008 1.         0.9776704\n",
      "  0.9454692  0.95233144 0.94916349 0.9892765 ]\n",
      " [0.89484375 0.95650432 0.91884932 0.96887449 0.9776704  1.\n",
      "  0.94136541 0.93949593 0.92753997 0.99019247]\n",
      " [0.98246201 0.93393289 0.93289081 0.97114331 0.9454692  0.94136541\n",
      "  1.         0.97753741 0.98946349 0.95033968]\n",
      " [0.95420875 0.93910857 0.95076537 0.97370257 0.95233144 0.93949593\n",
      "  0.97753741 1.         0.98398451 0.95948381]\n",
      " [0.98465118 0.94599361 0.95716824 0.97610452 0.94916349 0.92753997\n",
      "  0.98946349 0.98398451 1.         0.9491037 ]\n",
      " [0.91678258 0.97044451 0.94503775 0.98104288 0.9892765  0.99019247\n",
      "  0.95033968 0.95948381 0.9491037  1.        ]]\n"
     ]
    }
   ],
   "source": [
    "cross_corr_rf = np.corrcoef(feats.loc[importance_rf][:10])\n",
    "print(cross_corr_rf)"
   ]
  },
  {
   "cell_type": "markdown",
   "id": "785f7447-e374-46ca-ab49-e56c36963fcf",
   "metadata": {},
   "source": [
    "### Refitting Lasso Model with new 1000 data points"
   ]
  },
  {
   "cell_type": "code",
   "execution_count": 23,
   "id": "9718972d-8006-41d7-9623-9ef05d0e23b8",
   "metadata": {
    "tags": []
   },
   "outputs": [],
   "source": [
    "subset_data = train_data.sample(1000) \n",
    "subset_feats = train_feats.sample(1000)\n",
    "lasso_new = lasso.fit(subset_feats, subset_data['bandgap'])"
   ]
  },
  {
   "cell_type": "code",
   "execution_count": 24,
   "id": "558f62c3-5f75-42b5-b213-7729083e2cfe",
   "metadata": {},
   "outputs": [
    {
     "name": "stdout",
     "output_type": "stream",
     "text": [
      "[   0  702  703 ...  351 1066   75]\n"
     ]
    }
   ],
   "source": [
    "importance_lasso_new = np.argsort(lasso_new.coef_)\n",
    "print(importance_lasso_new)"
   ]
  },
  {
   "cell_type": "code",
   "execution_count": 25,
   "id": "e9aad6df-28e1-4ba6-879c-abe1b1c0c13f",
   "metadata": {
    "tags": []
   },
   "outputs": [
    {
     "name": "stdout",
     "output_type": "stream",
     "text": [
      "[[1.         0.97064787 0.90912775 0.95316473 0.92132692 0.94981303\n",
      "  0.93907574 0.90828917 0.96380008 0.97452875]\n",
      " [0.97064787 1.         0.90944363 0.99546529 0.91926451 0.95500143\n",
      "  0.97206697 0.90140758 0.97383771 0.96629466]\n",
      " [0.90912775 0.90944363 1.         0.90066636 0.99681834 0.96505027\n",
      "  0.93969938 0.98303862 0.97342735 0.96515096]\n",
      " [0.95316473 0.99546529 0.90066636 1.         0.90656918 0.94644354\n",
      "  0.96959793 0.89563161 0.96662937 0.95216913]\n",
      " [0.92132692 0.91926451 0.99681834 0.90656918 1.         0.97480035\n",
      "  0.94832619 0.98111316 0.97861537 0.97112274]\n",
      " [0.94981303 0.95500143 0.96505027 0.94644354 0.97480035 1.\n",
      "  0.97406902 0.96004507 0.98924716 0.97486031]\n",
      " [0.93907574 0.97206697 0.93969938 0.96959793 0.94832619 0.97406902\n",
      "  1.         0.94265553 0.97654918 0.94721301]\n",
      " [0.90828917 0.90140758 0.98303862 0.89563161 0.98111316 0.96004507\n",
      "  0.94265553 1.         0.96634765 0.94110235]\n",
      " [0.96380008 0.97383771 0.97342735 0.96662937 0.97861537 0.98924716\n",
      "  0.97654918 0.96634765 1.         0.98710596]\n",
      " [0.97452875 0.96629466 0.96515096 0.95216913 0.97112274 0.97486031\n",
      "  0.94721301 0.94110235 0.98710596 1.        ]]\n"
     ]
    }
   ],
   "source": [
    "cross_corr_lasso_new = np.corrcoef(feats.loc[importance_lasso_new][:10])\n",
    "print(cross_corr_lasso_new) "
   ]
  },
  {
   "cell_type": "markdown",
   "id": "a0f6ddfb-4f4c-4282-860d-4a3d0d05797b",
   "metadata": {},
   "source": [
    "### Conclusions: \n",
    "\n",
    "1. Feature importance is determined by its correlation with other data points. If a data point correlates closely with the majority of the dataset, it is given a higher feature importance/correlation coefficient, vice versa. \n",
    "\n",
    "2. RandomForest models perform relatively better than linear regression models like LassoCV without any dimensionality reduction or feature selection; however, its computing time is significantly longer than LassoCV with and without PCA. It allows for the depiction of non-linear models and can handle both numerical and categorical data. LassoCV allows for a simple depiction of linear relationships through its use of correlation coefficients and improved model performance with feature selection. "
   ]
  }
 ],
 "metadata": {
  "kernelspec": {
   "display_name": "Python 3 (ipykernel)",
   "language": "python",
   "name": "python3"
  },
  "language_info": {
   "codemirror_mode": {
    "name": "ipython",
    "version": 3
   },
   "file_extension": ".py",
   "mimetype": "text/x-python",
   "name": "python",
   "nbconvert_exporter": "python",
   "pygments_lexer": "ipython3",
   "version": "3.9.12"
  }
 },
 "nbformat": 4,
 "nbformat_minor": 5
}
