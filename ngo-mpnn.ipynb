{
 "cells": [
  {
   "cell_type": "markdown",
   "id": "87fb384b-55d2-4967-97b8-c06e6b163487",
   "metadata": {
    "tags": []
   },
   "source": [
    "## Message Passing Layers"
   ]
  },
  {
   "cell_type": "code",
   "execution_count": 1,
   "id": "f78912d7-4e26-40dd-bfae-2df49d495624",
   "metadata": {
    "tags": []
   },
   "outputs": [],
   "source": [
    "%matplotlib inline\n",
    "from typing import List, Tuple, Sequence\n",
    "from matplotlib import pyplot as plt\n",
    "from mpnn.data import make_tfrecord\n",
    "from mpnn.layers import Scaling\n",
    "from sklearn.model_selection import train_test_split\n",
    "from rdkit import Chem\n",
    "from tqdm import tqdm\n",
    "from functools import partial\n",
    "from tensorflow.keras.models import Model\n",
    "from tensorflow.keras import layers\n",
    "import tensorflow as tf\n",
    "import pandas as pd\n",
    "import numpy as np\n",
    "import networkx as nx\n",
    "import json"
   ]
  },
  {
   "cell_type": "markdown",
   "id": "523e2d0e-bf1d-4193-bb97-dd7524704925",
   "metadata": {},
   "source": [
    "Downloading QM9 dataset and converting SMILES molecules to RDKit molecules w/ hydrogens:"
   ]
  },
  {
   "cell_type": "code",
   "execution_count": 2,
   "id": "372c1aae-0bd8-458e-99fa-d1fbc1ccb5db",
   "metadata": {
    "tags": []
   },
   "outputs": [
    {
     "name": "stdout",
     "output_type": "stream",
     "text": [
      "CPU times: total: 3.84 s\n",
      "Wall time: 3.84 s\n"
     ]
    }
   ],
   "source": [
    "%%time\n",
    "data = pd.read_json('../datasets/qm9.json.gz', lines=True)\n",
    "data ['mol'] = data['smiles_0'].apply(Chem.MolFromSmiles).apply(Chem.AddHs)"
   ]
  },
  {
   "cell_type": "markdown",
   "id": "e98d59eb-a657-486b-b96b-952833b28926",
   "metadata": {
    "tags": []
   },
   "source": [
    "#### Preprocessing!"
   ]
  },
  {
   "cell_type": "markdown",
   "id": "284a0e9e-d384-4edb-bcdc-4ec3802e33cb",
   "metadata": {},
   "source": [
    "Converting types of atoms and bonds to numerical values: "
   ]
  },
  {
   "cell_type": "code",
   "execution_count": 3,
   "id": "1720fbb0-6513-4dd7-86b2-5dda5509b62c",
   "metadata": {
    "tags": []
   },
   "outputs": [],
   "source": [
    "# identifying all possible atom and bond types in dataset\n",
    "\n",
    "def make_type_lookup_tables(mols: List[Chem.Mol]) -> Tuple[List[int], List[str]]:\n",
    "    \"\"\"Create lists of observed atom and bond types\n",
    "\n",
    "    Args:\n",
    "        mols: List of molecules used for our training set\n",
    "    Returns:\n",
    "        - List of atom types (elements)\n",
    "        - List of bond types (elements)\n",
    "    \"\"\"\n",
    "\n",
    "    # Initialize the lists\n",
    "    atom_types = set()\n",
    "    bond_types = set()\n",
    "\n",
    "    # Get all types observed in these graphs\n",
    "    for mol in mols:\n",
    "        atom_types.update([x.GetAtomicNum() for x in mol.GetAtoms()])\n",
    "        bond_types.update([x.GetBondType() for x in mol.GetBonds()])\n",
    "\n",
    "    # Return as sorted lists\n",
    "    return sorted(atom_types), sorted(bond_types)"
   ]
  },
  {
   "cell_type": "markdown",
   "id": "7bfbdb70-46dd-4a62-9f3e-b0fe20b5bf87",
   "metadata": {},
   "source": [
    "Creating an extensive dictionary consisting of atom types, bond types, and the specific atoms that are connected by particular bonds:   "
   ]
  },
  {
   "cell_type": "code",
   "execution_count": 4,
   "id": "879c2713-dd89-45f1-81e6-3e137b00ff74",
   "metadata": {
    "tags": []
   },
   "outputs": [],
   "source": [
    "# converting atom and bond features in a dictionary/array\n",
    "\n",
    "def convert_mol_to_dict(mol: Chem.Mol, atom_types: List[int], bond_types: List[str]) -> dict:\n",
    "    \"\"\"Convert RDKit representation of a molecule to an MPNN-ready dict\n",
    "    \n",
    "    Args:\n",
    "        mol: Molecule to be converted\n",
    "        atom_types: Lookup table of observed atom types\n",
    "        bond_types: Lookup table of observed bond types\n",
    "    Returns:\n",
    "        (dict) Molecule as a dict\n",
    "    \"\"\"\n",
    "\n",
    "    # Get the atom types, look them up in the atom_type list\n",
    "    atom_type = [a.GetAtomicNum() for a in mol.GetAtoms()]\n",
    "    atom_type_id = list(map(atom_types.index, atom_type))\n",
    "\n",
    "    # Get the bond types and which atoms these connect\n",
    "    connectivity = []\n",
    "    edge_type = []\n",
    "    for bond in mol.GetBonds():\n",
    "        # Get information about the bond\n",
    "        a = bond.GetBeginAtomIdx()\n",
    "        b = bond.GetEndAtomIdx()\n",
    "        b_type = bond.GetBondType()\n",
    "        \n",
    "        # Store how they are connected\n",
    "        connectivity.append([a, b])\n",
    "        connectivity.append([b, a])\n",
    "        edge_type.append(b_type)\n",
    "        edge_type.append(b_type)\n",
    "    edge_type_id = list(map(bond_types.index, edge_type))\n",
    "\n",
    "    # Sort connectivity array by the first column\n",
    "    #  This is needed for the MPNN code to efficiently group messages for\n",
    "    #  each atom when performing the message passing step\n",
    "    connectivity = np.array(connectivity)\n",
    "    if connectivity.size > 0:\n",
    "        # Skip a special case of a molecule w/o bonds\n",
    "        inds = np.lexsort((connectivity[:, 1], connectivity[:, 0]))\n",
    "        connectivity = connectivity[inds, :]\n",
    "\n",
    "        # Tensorflow's \"segment_sum\" will cause problems if the last atom\n",
    "        #  is not bonded because it returns an array\n",
    "        if connectivity.max() != len(atom_type) - 1:\n",
    "            smiles = convert_nx_to_smiles(graph)\n",
    "            raise ValueError(f\"Problem with unconnected atoms for {smiles}\")\n",
    "    else:\n",
    "        connectivity = np.zeros((0, 2))\n",
    "\n",
    "    return {\n",
    "        'n_atom': len(atom_type),\n",
    "        'n_bond': len(edge_type),\n",
    "        'atom': atom_type_id,\n",
    "        'bond': edge_type_id,\n",
    "        'connectivity': connectivity\n",
    "    }"
   ]
  },
  {
   "cell_type": "code",
   "execution_count": 5,
   "id": "19cbd975-9bfe-425c-821e-834191a199cd",
   "metadata": {
    "tags": []
   },
   "outputs": [],
   "source": [
    "# identifying all atom and bond types\n",
    "atom_types, bond_types = make_type_lookup_tables(data['mol']) \n",
    "\n",
    "# applying conversion function to entire dataset \n",
    "data['dict'] = data['mol'].apply(lambda x: convert_mol_to_dict(x, atom_types, bond_types))\n",
    "\n",
    "# splitting into train, test, and validation sets\n",
    "train_data, test_data = train_test_split(data, shuffle=True, train_size=0.9)\n",
    "train_data, valid_data = train_test_split(train_data, train_size=0.9)"
   ]
  },
  {
   "cell_type": "markdown",
   "id": "fad6831c-5c31-4068-9bd0-da09be5a476c",
   "metadata": {},
   "source": [
    "Transforming dictionaries into a binary format compatible with TFRecords (allows us to create data loaders + tensors): "
   ]
  },
  {
   "cell_type": "code",
   "execution_count": 6,
   "id": "0e07a185-2c57-456b-ad1a-e470101a02b3",
   "metadata": {
    "tags": []
   },
   "outputs": [
    {
     "name": "stderr",
     "output_type": "stream",
     "text": [
      "train: 20250it [00:26, 771.72it/s]\n",
      "valid: 2250it [00:02, 781.19it/s]\n",
      "test: 2500it [00:03, 784.65it/s]\n"
     ]
    }
   ],
   "source": [
    "for name, dataset in zip(['train', 'valid', 'test'], [train_data, valid_data, test_data]):\n",
    "    # Open the file in which to store the data\n",
    "    with tf.io.TFRecordWriter(f'datasets/{name}_data.proto') as writer:\n",
    "        # Loop over each entry in the dataset\n",
    "        for _, entry in tqdm(dataset.iterrows(), desc=name):\n",
    "            # Store some output values in the dictionary as well\n",
    "            record = entry['dict']\n",
    "            for o in ['u0_atom', 'bandgap']:\n",
    "                record[o] = entry[o]\n",
    "            writer.write(make_tfrecord(record))"
   ]
  },
  {
   "cell_type": "markdown",
   "id": "9fbd0e64-7737-4d89-8a3f-40f8b166631a",
   "metadata": {},
   "source": [
    "Specifying which elements (and their types) should be read from TFRecords:"
   ]
  },
  {
   "cell_type": "code",
   "execution_count": 7,
   "id": "37b4f3e3-4f16-41e5-9699-079089563528",
   "metadata": {
    "tags": []
   },
   "outputs": [],
   "source": [
    "def parse_records(example_proto, target_name, target_shape: Sequence[int] = ()): # defining which elements should be read from the TFRecords and their types\n",
    "    \"\"\"Parse data from the TFRecord\n",
    "\n",
    "    Args:\n",
    "        example_proto: Batch of serialized TF records\n",
    "        target_name (str): Name of the output property\n",
    "        target_shape\n",
    "    Returns:\n",
    "        Batch of parsed TF records\n",
    "    \"\"\"\n",
    "\n",
    "    default_target = np.zeros(target_shape) * np.nan\n",
    "\n",
    "    features = {\n",
    "        target_name: tf.io.FixedLenFeature(target_shape, tf.float32, default_value=default_target),\n",
    "        'u0_atom': tf.io.FixedLenFeature([], tf.float32, default_value=np.nan), \n",
    "        'bandgap': tf.io.FixedLenFeature([], tf.float32),\n",
    "        'n_atom': tf.io.FixedLenFeature([], tf.int64),\n",
    "        'n_bond': tf.io.FixedLenFeature([], tf.int64),\n",
    "        'connectivity': tf.io.VarLenFeature(tf.int64),\n",
    "        'atom': tf.io.VarLenFeature(tf.int64),\n",
    "        'bond': tf.io.VarLenFeature(tf.int64),\n",
    "    }\n",
    "    return tf.io.parse_example(example_proto, features)\n"
   ]
  },
  {
   "cell_type": "markdown",
   "id": "c91c1a46-a8f4-4fe6-a5ef-5a8df8427b45",
   "metadata": {},
   "source": [
    "Converting SparseTensor objects into Dense Layers, distinguishing central nodes for each molecule in an entry, and obtaining output (energy) tuple: "
   ]
  },
  {
   "cell_type": "code",
   "execution_count": 8,
   "id": "8620f855-ac96-4793-98eb-540547184f28",
   "metadata": {
    "tags": []
   },
   "outputs": [],
   "source": [
    "def prepare_for_batching(dataset): # converting SparseTensor objects into Dense layers for deep learning\n",
    "    \"\"\"Make the variable length arrays into RaggedArrays.\n",
    "\n",
    "    Allows them to be merged together in batches\"\"\"\n",
    "    for c in ['atom', 'bond', 'connectivity']:\n",
    "        expanded = tf.expand_dims(dataset[c].values, axis=0, name=f'expand_{c}')\n",
    "        dataset[c] = tf.RaggedTensor.from_tensor(expanded).flat_values\n",
    "    return dataset\n",
    "\n",
    "\n",
    "def combine_graphs(batch):  # distinguishing central nodes and bonds for each molecule within each entry (each consists of multiple molecules)\n",
    "    \"\"\"Combine multiple graphs into a single network\"\"\"\n",
    "\n",
    "    # Compute the mappings from bond index to graph index\n",
    "    batch_size = tf.size(batch['n_atom'], name='batch_size')\n",
    "    mol_id = tf.range(batch_size, name='mol_inds')\n",
    "    batch['node_graph_indices'] = tf.repeat(mol_id, batch['n_atom'], axis=0)\n",
    "    batch['bond_graph_indices'] = tf.repeat(mol_id, batch['n_bond'], axis=0)\n",
    "\n",
    "    # Reshape the connectivity matrix to (None, 2)\n",
    "    batch['connectivity'] = tf.reshape(batch['connectivity'], (-1, 2))\n",
    "\n",
    "    # Compute offsets for the connectivity matrix\n",
    "    offset_values = tf.cumsum(batch['n_atom'], exclusive=True)\n",
    "    offsets = tf.repeat(offset_values, batch['n_bond'], name='offsets', axis=0)\n",
    "    batch['connectivity'] += tf.expand_dims(offsets, 1)\n",
    "\n",
    "    return batch\n",
    "\n",
    "\n",
    "def make_training_tuple(batch, target_name):\n",
    "    \"\"\"Get the output tuple.\n",
    "\n",
    "    Makes a tuple dataset with the inputs as the first element\n",
    "    and the output energy as the second element\n",
    "    \"\"\"\n",
    "\n",
    "    inputs = {}\n",
    "    output = None\n",
    "    for k, v in batch.items():\n",
    "        if k != target_name:\n",
    "            inputs[k] = v\n",
    "        else:\n",
    "            output = v\n",
    "    return inputs, output\n"
   ]
  },
  {
   "cell_type": "markdown",
   "id": "79f99868-202b-4ff8-9685-5725c6717c25",
   "metadata": {},
   "source": [
    "Class to create a new data loader in tensorflow: "
   ]
  },
  {
   "cell_type": "code",
   "execution_count": 9,
   "id": "44d9952b-c0ab-4fe4-8d57-a52f4d9d9f56",
   "metadata": {
    "tags": []
   },
   "outputs": [],
   "source": [
    "def make_data_loader(file_path, batch_size=32, shuffle_buffer=None,\n",
    "                     n_threads=tf.data.experimental.AUTOTUNE, shard=None,\n",
    "                     cache: bool = False, output_property: str = 'u0_atom',\n",
    "                     output_shape: Sequence[int] = ()) -> tf.data.TFRecordDataset:\n",
    "    \"\"\"Make a data loader for tensorflow\n",
    "\n",
    "    Args:\n",
    "        file_path (str): Path to the training set\n",
    "        batch_size (int): Number of graphs per training batch\n",
    "        shuffle_buffer (int): Width of window to use when shuffling training entries\n",
    "        n_threads (int): Number of threads over which to parallelize data loading\n",
    "        cache (bool): Whether to load the whole dataset into memory\n",
    "        shard ((int, int)): Parameters used to shared the dataset: (size, rank)\n",
    "        output_property (str): Which property to use as the output\n",
    "        output_shape ([int]): Shape of the output property\n",
    "    Returns:\n",
    "        (tf.data.TFRecordDataset) An infinite dataset generator\n",
    "    \"\"\"\n",
    "\n",
    "    r = tf.data.TFRecordDataset(file_path)\n",
    "\n",
    "    # Save the data in memory if needed\n",
    "    if cache:\n",
    "        r = r.cache()\n",
    "\n",
    "    # Shuffle the entries\n",
    "    if shuffle_buffer is not None:\n",
    "        r = r.shuffle(shuffle_buffer)\n",
    "\n",
    "    # Shard after shuffling (so that each rank will be able to make unique batches each time)\n",
    "    if shard is not None:\n",
    "        r = r.shard(*shard)\n",
    "\n",
    "    # Add in the data preprocessing steps\n",
    "    #  Note that the `batch` is the first operation\n",
    "    parse = partial(parse_records, target_name=output_property, target_shape=output_shape)\n",
    "    r = r.batch(batch_size).map(parse, n_threads).map(prepare_for_batching, n_threads)\n",
    "\n",
    "    # Return full batches\n",
    "    r = r.map(combine_graphs, n_threads)\n",
    "    train_tuple = partial(make_training_tuple, target_name=output_property)\n",
    "    return r.map(train_tuple)"
   ]
  },
  {
   "cell_type": "markdown",
   "id": "f1e3ed7f-a2e1-4259-aa8b-6f4ccdd38423",
   "metadata": {},
   "source": [
    "Making separate data loaders for the training, testing, and validation sets + calculating average of output variable of a batch of training points:"
   ]
  },
  {
   "cell_type": "code",
   "execution_count": 10,
   "id": "c296fdf1-77c5-4283-9ef7-939b7f4bf327",
   "metadata": {
    "tags": []
   },
   "outputs": [
    {
     "name": "stdout",
     "output_type": "stream",
     "text": [
      "tf.Tensor(-2.80321, shape=(), dtype=float32)\n"
     ]
    }
   ],
   "source": [
    "# making data loaders for train, test, and validation datasets \n",
    "\n",
    "train_loader = make_data_loader(file_path='datasets/train_data.proto',shuffle_buffer=1, output_property='u0_atom')\n",
    "test_loader = make_data_loader(file_path='datasets/test_data.proto', shuffle_buffer=1, output_property='u0_atom')\n",
    "valid_loader = make_data_loader(file_path='datasets/test_data.proto', shuffle_buffer=1, output_property='u0_atom')\n",
    "\n",
    "# calculate average of u0_atom variable\n",
    "inputs, outputs = next(iter(train_loader))\n",
    "average = tf.reduce_mean(outputs)\n",
    "print(average)"
   ]
  },
  {
   "cell_type": "markdown",
   "id": "d1823909-d60e-4feb-b444-f7220e4f98e1",
   "metadata": {},
   "source": [
    "### Creating a Message Passing Neural Network!"
   ]
  },
  {
   "cell_type": "markdown",
   "id": "c604d186-7f36-42de-a15b-1cfdeaefba97",
   "metadata": {},
   "source": [
    "Defining the message passing layer by multiplying all the 'target' atoms by its bond type (new messages) and adding them to its original electrostatic force: "
   ]
  },
  {
   "cell_type": "code",
   "execution_count": 11,
   "id": "66729caa-5dab-4d75-894e-808b87914ca8",
   "metadata": {
    "tags": []
   },
   "outputs": [],
   "source": [
    "class MessagePassingLayer(layers.Layer):\n",
    "    \"\"\"Perform the message passing step\"\"\"\n",
    "\n",
    "    def call(self, atom_features, bond_features, connectivity):\n",
    "        \"\"\"Perform the message passing steps.\n",
    "        \n",
    "        Takes the atom and bond features with the connectivity as inputs\n",
    "        and produces a new set of atom features.\n",
    "        \"\"\"\n",
    "        # Get the features for the atoms at each side of a bond\n",
    "        source_atom = tf.gather(atom_features, connectivity[:, 0])\n",
    "        target_atom = tf.gather(atom_features, connectivity[:, 1])\n",
    "\n",
    "        # Make messages based on the \"far side\" of the bond and the bond type\n",
    "        all_messages = tf.multiply(bond_features, target_atom)\n",
    "\n",
    "        # Sum them up and add them to the original features\n",
    "        messages = tf.math.segment_sum(all_messages, connectivity[:, 0])\n",
    "        atom_features = atom_features + messages\n",
    "        return atom_features"
   ]
  },
  {
   "cell_type": "markdown",
   "id": "b727311e-f077-4ea5-a116-e93eab3e0c7a",
   "metadata": {},
   "source": [
    "Defining a readout class that can use various functions to combine atomic features into molecular features: "
   ]
  },
  {
   "cell_type": "code",
   "execution_count": 12,
   "id": "35bf5aca-99c9-4c98-ae8c-5d54ecc93ef1",
   "metadata": {
    "tags": []
   },
   "outputs": [],
   "source": [
    "class Readout(layers.Layer):\n",
    "    \"\"\"Convert atomic to molecular features\"\"\"\n",
    "    \n",
    "    def __init__(self, reduce_function: str = \"sum\", **kwargs):\n",
    "        \"\"\"\n",
    "        Args:\n",
    "            reduce_function: Functon used to combine atomic features.\n",
    "                Can be \"sum,\" \"mean\", \"max,\" \"min,\" \"prod\" or \"softmax\"\n",
    "        \"\"\"\n",
    "        super().__init__(**kwargs)\n",
    "        self.reduce_function = reduce_function\n",
    "    \n",
    "    def call(self, atom_features, node_graph_indices):\n",
    "        if self.reduce_function in [\"sum\", \"mean\", \"max\", \"min\", \"prod\"]:\n",
    "            # Sum over all atoms in a mol to form a single fingerprint\n",
    "            reduce_func = getattr(tf.math, f'segment_{self.reduce_function.lower()}')\n",
    "            return reduce_func(atom_features, node_graph_indices)\n",
    "        elif self.reduce_function == \"softmax\":\n",
    "            # Compute the softmax for each feature\n",
    "            atom_state_softmax = self._per_graph_softmax(atom_features, node_graph_indices)\n",
    "\n",
    "            # Softmax gives a fraction of each feature to use when computing the \"max\"\n",
    "            #  Dot product with the original values to get the a meaningful number\n",
    "            atom_state_softmaxed = tf.multiply(atom_features, atom_state_softmax)\n",
    "\n",
    "            # Sum over each molecule again\n",
    "            return tf.math.segment_sum(atom_state_softmaxed, node_graph_indices)\n",
    "    "
   ]
  },
  {
   "cell_type": "markdown",
   "id": "921fc449-d1ff-493f-8944-2d27139880a9",
   "metadata": {},
   "source": [
    "Actually making the model: "
   ]
  },
  {
   "cell_type": "code",
   "execution_count": 13,
   "id": "7e8e8d76-63d3-42cd-8a2b-91e29bb15c84",
   "metadata": {
    "tags": []
   },
   "outputs": [],
   "source": [
    "def make_model(num_features: int, num_messages: int, readout_function: str):\n",
    "    \"\"\"Build an MPNN\n",
    "    \n",
    "    \n",
    "    Args:\n",
    "        num_features: Number of features to use to describe each atom and bond\n",
    "        num_messages: Number of message passing steps\n",
    "    Returns:\n",
    "        Keras models that generate molecule property\n",
    "    \"\"\"\n",
    "    \n",
    "    # The first step is to define which inputs to expand and their shapes/types\n",
    "    node_graph_indices = layers.Input(shape=(1,), name='node_graph_indices', dtype='int32')\n",
    "    atom_types = layers.Input(shape=(1,), name='atom', dtype='int32')\n",
    "    bond_types = layers.Input(shape=(1,), name='bond', dtype='int32')\n",
    "    connectivity = layers.Input(shape=(2,), name='connectivity', dtype='int32')\n",
    "\n",
    "    # Squeeze the node graph and connectivity matrices\n",
    "    #  Keras makes all input arrays 2D, I find it easier to deal with them as 1D vectors\n",
    "    #  The squeeze operation removes the second dimension, and I use Kera's Lambda layer\n",
    "    #  to quickly wrap a simple Tensorflow function\n",
    "    squeeze = layers.Lambda(tf.squeeze, arguments={'axis': 1}, name='squeeze')\n",
    "    snode_graph_indices = squeeze(node_graph_indices)\n",
    "    satom_types = squeeze(atom_types)\n",
    "    sbond_types = squeeze(bond_types)\n",
    "    \n",
    "    # Generate initial features for each atom and bond using embeddings\n",
    "    atom_features = layers.Embedding(6, num_features, name='atom_embedding')(satom_types)\n",
    "    bond_features = layers.Embedding(4, num_features, name='bond_embedding')(sbond_types)\n",
    "    \n",
    "    # Perform a few message passing steps\n",
    "    message_layer = MessagePassingLayer(name='message_passing')\n",
    "    for _ in range(num_messages):\n",
    "        atom_features = message_layer(atom_features, bond_features, connectivity)\n",
    "        \n",
    "    # Reduce to a single set of features per molecule\n",
    "    mol_features = Readout(readout_function, name='readout')(atom_features, snode_graph_indices)\n",
    "    \n",
    "    # adding another Dense layer with 'relu' activation and 32 units between the readout and output layer\n",
    "    dense = layers.Dense(32, activation='relu', name='dense')(mol_features)\n",
    "    \n",
    "    # Create the output layer\n",
    "    output = layers.Dense(1, activation='linear', name='output')(dense)\n",
    "    \n",
    "    # Creating a scaling layer\n",
    "    scaling = Scaling(name='scaling')(output)\n",
    "    \n",
    "    # Create the models by defining which layers are the inputs and which are the outputs\n",
    "    model = Model(inputs=[node_graph_indices, atom_types, bond_types, connectivity], outputs=scaling)\n",
    "    return model"
   ]
  },
  {
   "cell_type": "code",
   "execution_count": 14,
   "id": "67500633-c7ad-48c5-8f4e-f33d0ceb6f6b",
   "metadata": {
    "tags": []
   },
   "outputs": [
    {
     "name": "stdout",
     "output_type": "stream",
     "text": [
      "Model: \"model\"\n",
      "__________________________________________________________________________________________________\n",
      " Layer (type)                   Output Shape         Param #     Connected to                     \n",
      "==================================================================================================\n",
      " atom (InputLayer)              [(None, 1)]          0           []                               \n",
      "                                                                                                  \n",
      " bond (InputLayer)              [(None, 1)]          0           []                               \n",
      "                                                                                                  \n",
      " squeeze (Lambda)               (None,)              0           ['node_graph_indices[0][0]',     \n",
      "                                                                  'atom[0][0]',                   \n",
      "                                                                  'bond[0][0]']                   \n",
      "                                                                                                  \n",
      " atom_embedding (Embedding)     (None, 64)           384         ['squeeze[1][0]']                \n",
      "                                                                                                  \n",
      " bond_embedding (Embedding)     (None, 64)           256         ['squeeze[2][0]']                \n",
      "                                                                                                  \n",
      " connectivity (InputLayer)      [(None, 2)]          0           []                               \n",
      "                                                                                                  \n",
      " message_passing (MessagePassin  (None, 64)          0           ['atom_embedding[0][0]',         \n",
      " gLayer)                                                          'bond_embedding[0][0]',         \n",
      "                                                                  'connectivity[0][0]',           \n",
      "                                                                  'message_passing[0][0]',        \n",
      "                                                                  'bond_embedding[0][0]',         \n",
      "                                                                  'connectivity[0][0]']           \n",
      "                                                                                                  \n",
      " node_graph_indices (InputLayer  [(None, 1)]         0           []                               \n",
      " )                                                                                                \n",
      "                                                                                                  \n",
      " readout (Readout)              (None, 64)           0           ['message_passing[1][0]',        \n",
      "                                                                  'squeeze[0][0]']                \n",
      "                                                                                                  \n",
      " dense (Dense)                  (None, 32)           2080        ['readout[0][0]']                \n",
      "                                                                                                  \n",
      " output (Dense)                 (None, 1)            33          ['dense[0][0]']                  \n",
      "                                                                                                  \n",
      " scaling (Scaling)              (None, 1)            2           ['output[0][0]']                 \n",
      "                                                                                                  \n",
      "==================================================================================================\n",
      "Total params: 2,755\n",
      "Trainable params: 2,755\n",
      "Non-trainable params: 0\n",
      "__________________________________________________________________________________________________\n"
     ]
    }
   ],
   "source": [
    "# build a model with 64 features, 2 message passing layers and a \"sum\" readout function.\n",
    "\n",
    "model = make_model(64, 2, 'sum')\n",
    "model.summary()"
   ]
  },
  {
   "cell_type": "code",
   "execution_count": 15,
   "id": "8576e1a5-f270-4067-8da8-39c00310e4c7",
   "metadata": {
    "tags": []
   },
   "outputs": [
    {
     "name": "stdout",
     "output_type": "stream",
     "text": [
      "Epoch 1/128\n",
      "633/633 [==============================] - 3s 3ms/step - loss: 0.0325\n",
      "Epoch 2/128\n",
      "633/633 [==============================] - 1s 2ms/step - loss: 0.0250\n",
      "Epoch 3/128\n",
      "633/633 [==============================] - 1s 2ms/step - loss: 0.0202\n",
      "Epoch 4/128\n",
      "633/633 [==============================] - 1s 2ms/step - loss: 0.0152\n",
      "Epoch 5/128\n",
      "633/633 [==============================] - 1s 2ms/step - loss: 0.0110\n",
      "Epoch 6/128\n",
      "633/633 [==============================] - 1s 2ms/step - loss: 0.0082\n",
      "Epoch 7/128\n",
      "633/633 [==============================] - 1s 2ms/step - loss: 0.0065\n",
      "Epoch 8/128\n",
      "633/633 [==============================] - 1s 2ms/step - loss: 0.0055\n",
      "Epoch 9/128\n",
      "633/633 [==============================] - 1s 2ms/step - loss: 0.0048\n",
      "Epoch 10/128\n",
      "633/633 [==============================] - 1s 2ms/step - loss: 0.0043\n",
      "Epoch 11/128\n",
      "633/633 [==============================] - 1s 2ms/step - loss: 0.0038\n",
      "Epoch 12/128\n",
      "633/633 [==============================] - 1s 2ms/step - loss: 0.0034\n",
      "Epoch 13/128\n",
      "633/633 [==============================] - 1s 2ms/step - loss: 0.0032\n",
      "Epoch 14/128\n",
      "633/633 [==============================] - 1s 2ms/step - loss: 0.0030\n",
      "Epoch 15/128\n",
      "633/633 [==============================] - 1s 2ms/step - loss: 0.0028\n",
      "Epoch 16/128\n",
      "633/633 [==============================] - 1s 2ms/step - loss: 0.0027\n",
      "Epoch 17/128\n",
      "633/633 [==============================] - 1s 2ms/step - loss: 0.0026\n",
      "Epoch 18/128\n",
      "633/633 [==============================] - 1s 2ms/step - loss: 0.0025\n",
      "Epoch 19/128\n",
      "633/633 [==============================] - 1s 2ms/step - loss: 0.0024\n",
      "Epoch 20/128\n",
      "633/633 [==============================] - 1s 2ms/step - loss: 0.0023\n",
      "Epoch 21/128\n",
      "633/633 [==============================] - 1s 2ms/step - loss: 0.0023\n",
      "Epoch 22/128\n",
      "633/633 [==============================] - 1s 2ms/step - loss: 0.0022\n",
      "Epoch 23/128\n",
      "633/633 [==============================] - 1s 2ms/step - loss: 0.0021\n",
      "Epoch 24/128\n",
      "633/633 [==============================] - 1s 2ms/step - loss: 0.0021\n",
      "Epoch 25/128\n",
      "633/633 [==============================] - 1s 2ms/step - loss: 0.0020\n",
      "Epoch 26/128\n",
      "633/633 [==============================] - 1s 2ms/step - loss: 0.0020\n",
      "Epoch 27/128\n",
      "633/633 [==============================] - 1s 2ms/step - loss: 0.0019\n",
      "Epoch 28/128\n",
      "633/633 [==============================] - 1s 2ms/step - loss: 0.0019\n",
      "Epoch 29/128\n",
      "633/633 [==============================] - 1s 2ms/step - loss: 0.0019\n",
      "Epoch 30/128\n",
      "633/633 [==============================] - 1s 2ms/step - loss: 0.0019\n",
      "Epoch 31/128\n",
      "633/633 [==============================] - 1s 2ms/step - loss: 0.0018\n",
      "Epoch 32/128\n",
      "633/633 [==============================] - 1s 2ms/step - loss: 0.0018\n",
      "Epoch 33/128\n",
      "633/633 [==============================] - 1s 2ms/step - loss: 0.0018\n",
      "Epoch 34/128\n",
      "633/633 [==============================] - 1s 2ms/step - loss: 0.0018\n",
      "Epoch 35/128\n",
      "633/633 [==============================] - 1s 2ms/step - loss: 0.0018\n",
      "Epoch 36/128\n",
      "633/633 [==============================] - 1s 2ms/step - loss: 0.0017\n",
      "Epoch 37/128\n",
      "633/633 [==============================] - 1s 2ms/step - loss: 0.0017\n",
      "Epoch 38/128\n",
      "633/633 [==============================] - 1s 2ms/step - loss: 0.0016\n",
      "Epoch 39/128\n",
      "633/633 [==============================] - 1s 2ms/step - loss: 0.0016\n",
      "Epoch 40/128\n",
      "633/633 [==============================] - 1s 2ms/step - loss: 0.0016\n",
      "Epoch 41/128\n",
      "633/633 [==============================] - 1s 2ms/step - loss: 0.0016\n",
      "Epoch 42/128\n",
      "633/633 [==============================] - 1s 2ms/step - loss: 0.0016\n",
      "Epoch 43/128\n",
      "633/633 [==============================] - 1s 2ms/step - loss: 0.0016\n",
      "Epoch 44/128\n",
      "633/633 [==============================] - 1s 2ms/step - loss: 0.0016\n",
      "Epoch 45/128\n",
      "633/633 [==============================] - 1s 2ms/step - loss: 0.0016\n",
      "Epoch 46/128\n",
      "633/633 [==============================] - 1s 2ms/step - loss: 0.0016\n",
      "Epoch 47/128\n",
      "633/633 [==============================] - 1s 2ms/step - loss: 0.0016\n",
      "Epoch 48/128\n",
      "633/633 [==============================] - 1s 2ms/step - loss: 0.0016\n",
      "Epoch 49/128\n",
      "633/633 [==============================] - 1s 2ms/step - loss: 0.0016\n",
      "Epoch 50/128\n",
      "633/633 [==============================] - 1s 2ms/step - loss: 0.0016\n"
     ]
    },
    {
     "data": {
      "text/plain": [
       "<keras.callbacks.History at 0x24111ac19d0>"
      ]
     },
     "execution_count": 15,
     "metadata": {},
     "output_type": "execute_result"
    }
   ],
   "source": [
    "# pre-seeding the value of scaling layer by providing the mean and standard deviation of training data batches to avoid domination of outlier values\n",
    "scale = model.get_layer('scaling')\n",
    "scale.mean = outputs.numpy().mean()\n",
    "scale.std = outputs.numpy().std()\n",
    "\n",
    "import warnings\n",
    "\n",
    "# Ignore all warnings\n",
    "warnings.filterwarnings(\"ignore\")\n",
    "\n",
    "# fitting model w/ 128 epochs, batch-size of 32, and early stopping callback\n",
    "\n",
    "callback = tf.keras.callbacks.EarlyStopping(monitor='loss', patience=8, restore_best_weights=True)\n",
    "model.compile(loss='mean_squared_error')\n",
    "model.fit(train_loader, epochs=128, batch_size=32, callbacks=callback, verbose=True)"
   ]
  },
  {
   "cell_type": "code",
   "execution_count": 16,
   "id": "9d0ba41a-f607-421d-b781-03e73770072a",
   "metadata": {
    "tags": []
   },
   "outputs": [
    {
     "name": "stderr",
     "output_type": "stream",
     "text": [
      "  0%|                                                                                            | 0/5 [00:00<?, ?it/s]"
     ]
    },
    {
     "name": "stdout",
     "output_type": "stream",
     "text": [
      "79/79 [==============================] - 0s 1ms/step - loss: 0.0017\n"
     ]
    },
    {
     "name": "stderr",
     "output_type": "stream",
     "text": [
      " 20%|████████████████▊                                                                   | 1/5 [00:38<02:34, 38.57s/it]"
     ]
    },
    {
     "name": "stdout",
     "output_type": "stream",
     "text": [
      "79/79 [==============================] - 0s 1ms/step - loss: 7.7546e-04\n"
     ]
    },
    {
     "name": "stderr",
     "output_type": "stream",
     "text": [
      " 40%|█████████████████████████████████▌                                                  | 2/5 [02:18<03:43, 74.61s/it]"
     ]
    },
    {
     "name": "stdout",
     "output_type": "stream",
     "text": [
      "79/79 [==============================] - 0s 2ms/step - loss: 5.8199e-04\n"
     ]
    },
    {
     "name": "stderr",
     "output_type": "stream",
     "text": [
      " 60%|█████████████████████████████████████████████████▊                                 | 3/5 [04:57<03:46, 113.00s/it]"
     ]
    },
    {
     "name": "stdout",
     "output_type": "stream",
     "text": [
      "79/79 [==============================] - 0s 2ms/step - loss: 0.0022\n"
     ]
    },
    {
     "name": "stderr",
     "output_type": "stream",
     "text": [
      " 80%|██████████████████████████████████████████████████████████████████▍                | 4/5 [07:21<02:05, 125.44s/it]"
     ]
    },
    {
     "name": "stdout",
     "output_type": "stream",
     "text": [
      "79/79 [==============================] - 1s 3ms/step - loss: 0.0027\n"
     ]
    },
    {
     "name": "stderr",
     "output_type": "stream",
     "text": [
      "100%|███████████████████████████████████████████████████████████████████████████████████| 5/5 [13:40<00:00, 164.05s/it]\n"
     ]
    }
   ],
   "source": [
    "import warnings\n",
    "\n",
    "# Ignore all warnings\n",
    "warnings.filterwarnings(\"ignore\")\n",
    "\n",
    "# training + fitting models with 0, 1, 2, 4, and 8 message passing layers\n",
    "results = []\n",
    "num_layers = [0, 1, 2, 4, 8]\n",
    "\n",
    "for i in tqdm(num_layers): \n",
    "    model = make_model(64, i, 'sum')\n",
    "    \n",
    "    # pre-seeding value of scaling layer\n",
    "    scale = model.get_layer('scaling')\n",
    "    scale.mean = outputs.numpy().mean()\n",
    "    scale.std = outputs.numpy().std()\n",
    "    \n",
    "    # fitting model\n",
    "    model.compile(loss='mean_squared_error')\n",
    "    model.fit(train_loader, epochs=128, batch_size=32, callbacks=callback, verbose=False)\n",
    "    \n",
    "    # recording results\n",
    "    results.append({\n",
    "        'num_layers': i, \n",
    "        'loss': model.evaluate(test_loader)\n",
    "    })"
   ]
  },
  {
   "cell_type": "code",
   "execution_count": 17,
   "id": "0eea83f7-aa7f-4b47-84d2-897990bc576c",
   "metadata": {},
   "outputs": [
    {
     "data": {
      "text/plain": [
       "Text(0, 0.5, 'Total Loss')"
      ]
     },
     "execution_count": 17,
     "metadata": {},
     "output_type": "execute_result"
    },
    {
     "data": {
      "image/png": "[encoded data removed]",
      "text/plain": [
       "<Figure size 432x288 with 1 Axes>"
      ]
     },
     "metadata": {
      "needs_background": "light"
     },
     "output_type": "display_data"
    }
   ],
   "source": [
    "results = pd.DataFrame(results)\n",
    "fig, ax = plt.subplots()\n",
    "ax.loglog(results['num_layers'], results['loss'], '--o')\n",
    "ax.set_xlabel('Number of Message Passing Layers')\n",
    "ax.set_ylabel('Total Loss')"
   ]
  },
  {
   "cell_type": "markdown",
   "id": "f8eb7a1e-73dd-477a-ac1c-e15a6ef3436b",
   "metadata": {
    "tags": []
   },
   "source": [
    "#### Experimenting with different readout layers for different output properties (atomization energy and bandgap)"
   ]
  },
  {
   "cell_type": "code",
   "execution_count": 18,
   "id": "77a0b149-e381-4e43-84ee-58af836a67f4",
   "metadata": {},
   "outputs": [],
   "source": [
    "# defining different loaders for atomization enregy or bandgap output\n",
    "\n",
    "train_loader_atom = make_data_loader(file_path='datasets/train_data.proto', shuffle_buffer=1, output_property='u0_atom')\n",
    "test_loader_atom = make_data_loader(file_path='datasets/test_data.proto', shuffle_buffer=1, output_property='u0_atom')\n",
    "train_loader_bandgap = make_data_loader(file_path='datasets/train_data.proto', shuffle_buffer=1, output_property='bandgap')\n",
    "test_loader_bandgap = make_data_loader(file_path='datasets/test_data.proto', shuffle_buffer=1, output_property='bandgap')"
   ]
  },
  {
   "cell_type": "code",
   "execution_count": 19,
   "id": "39c0e4c2-62a5-497f-ac28-a175d303d206",
   "metadata": {
    "tags": []
   },
   "outputs": [
    {
     "name": "stdout",
     "output_type": "stream",
     "text": [
      "79/79 [==============================] - 0s 2ms/step\n"
     ]
    },
    {
     "data": {
      "text/plain": [
       "Text(0, 0.5, '$E_{atom}$, ML (Ha)')"
      ]
     },
     "execution_count": 19,
     "metadata": {},
     "output_type": "execute_result"
    },
    {
     "data": {
      "image/png": "[encoded data removed]",
      "text/plain": [
       "<Figure size 432x288 with 1 Axes>"
      ]
     },
     "metadata": {
      "needs_background": "light"
     },
     "output_type": "display_data"
    }
   ],
   "source": [
    "import warnings\n",
    "\n",
    "# Ignore all warnings\n",
    "warnings.filterwarnings(\"ignore\")\n",
    "\n",
    "# fitting four models: each with four layers + 64 features but changing output property + readout function\n",
    "\n",
    "# first model: u0_atom w/ sum function (SUM BETTER FOR ATOMIZATION ENERGY)\n",
    "model = make_model(64, 4, 'sum')\n",
    "model.compile(loss = 'mean_squared_error')\n",
    "\n",
    "# preseeding values for scaling layer\n",
    "scale = model.get_layer('scaling')\n",
    "scale.mean = outputs.numpy().mean()\n",
    "scale.std = outputs.numpy().std()\n",
    "\n",
    "# fitting model\n",
    "model.fit(train_loader_atom, epochs=128, batch_size=32, callbacks=callback, verbose=False)\n",
    "y_true = np.hstack([x[1] for x in test_loader_atom])  # Pulls data out of the data loader\n",
    "\n",
    "# predicting atomization energy using trained model\n",
    "y_pred = model.predict(test_loader_atom)\n",
    "\n",
    "# plotting predicted vs. actual values\n",
    "fig, ax = plt.subplots()\n",
    "ax.scatter(y_pred, y_true)\n",
    "ax.set_xlabel('$E_{atom}$, DFT (Ha)')\n",
    "ax.set_ylabel('$E_{atom}$, ML (Ha)')"
   ]
  },
  {
   "cell_type": "code",
   "execution_count": 20,
   "id": "fa2d763b-9c99-4950-9812-8ee21c8b3ee3",
   "metadata": {},
   "outputs": [
    {
     "name": "stdout",
     "output_type": "stream",
     "text": [
      "79/79 [==============================] - 0s 2ms/step\n"
     ]
    },
    {
     "data": {
      "text/plain": [
       "Text(0, 0.5, '$E_{atom}$, ML (Ha)')"
      ]
     },
     "execution_count": 20,
     "metadata": {},
     "output_type": "execute_result"
    },
    {
     "data": {
      "image/png": "[encoded data removed]",
      "text/plain": [
       "<Figure size 432x288 with 1 Axes>"
      ]
     },
     "metadata": {
      "needs_background": "light"
     },
     "output_type": "display_data"
    }
   ],
   "source": [
    "import warnings\n",
    "\n",
    "# Ignore all warnings\n",
    "warnings.filterwarnings(\"ignore\")\n",
    "\n",
    "# second model: u0_atom with max readout function\n",
    "\n",
    "model = make_model(64, 4, 'max')\n",
    "model.compile(loss = 'mean_squared_error')\n",
    "\n",
    "# preseeding values for scaling layer\n",
    "scale = model.get_layer('scaling')\n",
    "scale.mean = outputs.numpy().mean()\n",
    "scale.std = outputs.numpy().std()\n",
    "\n",
    "# fitting model\n",
    "model.fit(train_loader_atom, epochs=128, batch_size=32, callbacks=callback, verbose=False)\n",
    "y_true = np.hstack([x[1] for x in test_loader_atom])  # Pulls data out of the data loader\n",
    "\n",
    "# predicting atomization energy using trained model\n",
    "y_pred = model.predict(test_loader_atom)\n",
    "\n",
    "# plotting predicted vs. actual values\n",
    "fig, ax = plt.subplots()\n",
    "ax.scatter(y_pred, y_true)\n",
    "ax.set_xlabel('$E_{atom}$, DFT (Ha)')\n",
    "ax.set_ylabel('$E_{atom}$, ML (Ha)')"
   ]
  },
  {
   "cell_type": "code",
   "execution_count": 21,
   "id": "fac24715-1bf6-4ab1-9b2c-8c886489ffc4",
   "metadata": {
    "tags": []
   },
   "outputs": [
    {
     "name": "stdout",
     "output_type": "stream",
     "text": [
      "79/79 [==============================] - 0s 2ms/step\n"
     ]
    },
    {
     "data": {
      "text/plain": [
       "Text(0, 0.5, '$E_{atom}$, ML (Ha)')"
      ]
     },
     "execution_count": 21,
     "metadata": {},
     "output_type": "execute_result"
    },
    {
     "data": {
      "image/png": "[encoded data removed]",
      "text/plain": [
       "<Figure size 432x288 with 1 Axes>"
      ]
     },
     "metadata": {
      "needs_background": "light"
     },
     "output_type": "display_data"
    }
   ],
   "source": [
    "import warnings\n",
    "\n",
    "# Ignore all warnings\n",
    "warnings.filterwarnings(\"ignore\")\n",
    "\n",
    "# third model: bandgap with sum readout function\n",
    "\n",
    "model = make_model(64, 4, 'sum')\n",
    "model.compile(loss = 'mean_squared_error')\n",
    "\n",
    "# preseeding values for scaling layer\n",
    "scale = model.get_layer('scaling')\n",
    "scale.mean = outputs.numpy().mean()\n",
    "scale.std = outputs.numpy().std()\n",
    "\n",
    "# fitting model\n",
    "model.fit(train_loader_bandgap, epochs=128, batch_size=32, callbacks=callback, verbose=False)\n",
    "y_true = np.hstack([x[1] for x in test_loader_bandgap])  # Pulls data out of the data loader\n",
    "\n",
    "# predicting bandgap energy using trained model\n",
    "y_pred = model.predict(test_loader_bandgap)\n",
    "\n",
    "# plotting predicted vs. actual values\n",
    "fig, ax = plt.subplots()\n",
    "ax.scatter(y_pred, y_true)\n",
    "ax.set_xlabel('$E_{atom}$, DFT (Ha)')\n",
    "ax.set_ylabel('$E_{atom}$, ML (Ha)')"
   ]
  },
  {
   "cell_type": "code",
   "execution_count": 22,
   "id": "a12b2c90-01f5-433b-80d4-5b90222f2bff",
   "metadata": {},
   "outputs": [
    {
     "name": "stdout",
     "output_type": "stream",
     "text": [
      "79/79 [==============================] - 0s 2ms/step\n"
     ]
    },
    {
     "data": {
      "text/plain": [
       "Text(0, 0.5, '$E_{atom}$, ML (Ha)')"
      ]
     },
     "execution_count": 22,
     "metadata": {},
     "output_type": "execute_result"
    },
    {
     "data": {
      "image/png": "[encoded data removed]",
      "text/plain": [
       "<Figure size 432x288 with 1 Axes>"
      ]
     },
     "metadata": {
      "needs_background": "light"
     },
     "output_type": "display_data"
    }
   ],
   "source": [
    "import warnings\n",
    "\n",
    "# Ignore all warnings\n",
    "warnings.filterwarnings(\"ignore\")\n",
    "\n",
    "# fourth model: bandgap with max readout function (SLIGHTLY BETTER THAN SUM)\n",
    "\n",
    "model = make_model(64, 4, 'max')\n",
    "model.compile(loss = 'mean_squared_error')\n",
    "\n",
    "# preseeding values for scaling layer\n",
    "scale = model.get_layer('scaling')\n",
    "scale.mean = outputs.numpy().mean()\n",
    "scale.std = outputs.numpy().std()\n",
    "\n",
    "# fitting model\n",
    "model.fit(train_loader_bandgap, epochs=128, batch_size=32, callbacks=callback, verbose=False)\n",
    "y_true = np.hstack([x[1] for x in test_loader_bandgap])  # Pulls data out of the data loader\n",
    "\n",
    "# predicting bandgap energy using trained model\n",
    "y_pred = model.predict(test_loader_bandgap)\n",
    "\n",
    "# plotting predicted vs. actual values\n",
    "fig, ax = plt.subplots()\n",
    "ax.scatter(y_pred, y_true)\n",
    "ax.set_xlabel('$E_{atom}$, DFT (Ha)')\n",
    "ax.set_ylabel('$E_{atom}$, ML (Ha)')"
   ]
  },
  {
   "cell_type": "markdown",
   "id": "56ccd09c-43f9-4a55-b032-e1021327b260",
   "metadata": {},
   "source": [
    "#### Conclusions: \n",
    "\n",
    "1. MAX readout functions cannot scale with molecule size because it only considers the largest atomization energy of a molecule regardless of size. This particular readout function considers all features in equal significance as a result and will not correlate effectively with molecule size. Due to its size invariance, the max readout function is not dependant on the total number of features in the dataset and instead provides a fixed-size representation independent of dataset size. \n",
    "\n",
    "2. The sum readout function performs better for atomization energy because as a molecule's size increases, the sum of the atomization energies also increases as well, resulting in a very accurate model. For bandgap, however, the max readout function performs slightly better than the sum because bandgap energies, unlike atomization energies, cannot be scaled up because it depends on the molecular interactions between two particular atoms, one in the highest occupied orbital and one in the lowest occupied orbital, so the sum readout function isn't as effective for bandgap. "
   ]
  }
 ],
 "metadata": {
  "kernelspec": {
   "display_name": "Python 3 (ipykernel)",
   "language": "python",
   "name": "python3"
  },
  "language_info": {
   "codemirror_mode": {
    "name": "ipython",
    "version": 3
   },
   "file_extension": ".py",
   "mimetype": "text/x-python",
   "name": "python",
   "nbconvert_exporter": "python",
   "pygments_lexer": "ipython3",
   "version": "3.9.12"
  }
 },
 "nbformat": 4,
 "nbformat_minor": 5
}
