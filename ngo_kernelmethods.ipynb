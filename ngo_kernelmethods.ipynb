{
 "cells": [
  {
   "cell_type": "markdown",
   "id": "765ad4ba-3585-4e41-8a1e-c28a3ec10117",
   "metadata": {},
   "source": [
    "### Using Kernel Ridge Regression to fit a Coulomb Matrix\n",
    "\n",
    "Creating a model to predict the highest occupied molecular orbital energy, plotting a learning curve, and optimizing its training set!"
   ]
  },
  {
   "cell_type": "code",
   "execution_count": 1,
   "id": "b1035e7d-d662-4e5a-b354-722fca62988d",
   "metadata": {},
   "outputs": [],
   "source": [
    "%matplotlib inline\n",
    "from matplotlib import pyplot as plt\n",
    "from sklearn.kernel_ridge import KernelRidge\n",
    "from sklearn.pipeline import Pipeline\n",
    "from sklearn.preprocessing import StandardScaler\n",
    "from sklearn.model_selection import train_test_split, GridSearchCV\n",
    "from sklearn.metrics import mean_absolute_error\n",
    "from dscribe.descriptors import CoulombMatrix\n",
    "from ase.io.xyz import read_xyz\n",
    "from io import StringIO\n",
    "import pandas as pd\n",
    "import numpy as np    # loading all necessary functions"
   ]
  },
  {
   "cell_type": "markdown",
   "id": "55fa9d01-9e63-4e45-af04-beb2b6b52344",
   "metadata": {},
   "source": [
    "#### Preprocessing!"
   ]
  },
  {
   "cell_type": "code",
   "execution_count": 2,
   "id": "82c0b879-2e21-44e3-9588-f0a920ff996b",
   "metadata": {},
   "outputs": [],
   "source": [
    "# loading qm9 dataset\n",
    "\n",
    "data = pd.read_json('../datasets/qm9.json.gz', lines=True)"
   ]
  },
  {
   "cell_type": "code",
   "execution_count": 3,
   "id": "51183c4f-6ee3-4cd3-9aff-0e49a93117de",
   "metadata": {},
   "outputs": [],
   "source": [
    "data ['atoms'] = data['xyz'].map(lambda x: next(read_xyz(StringIO(x), slice(None)))) # converting 3D coordinates of each atom into string-like object "
   ]
  },
  {
   "cell_type": "markdown",
   "id": "c60427e8-7a78-4c9a-b1b9-f79db93641eb",
   "metadata": {},
   "source": [
    "#### Computing Coulomb's matrix for all molecules that have less than 40 atoms"
   ]
  },
  {
   "cell_type": "code",
   "execution_count": 4,
   "id": "2adf5b56-ce0f-4337-8cb4-219e18442eec",
   "metadata": {},
   "outputs": [],
   "source": [
    "# computing Coulomb's Matrix for each entry, maximum entries of 40\n",
    "\n",
    "cm = CoulombMatrix(40, permutation=\"eigenspectrum\", flatten=False)\n",
    "x = cm.create(data['atoms'], n_jobs=2)\n",
    "\n",
    "data['cm'] = x.tolist() # converting Coulomb Matrix into a python list"
   ]
  },
  {
   "cell_type": "markdown",
   "id": "a35d1426-23a1-4f86-b06f-85f7592b1f8b",
   "metadata": {},
   "source": [
    "#### Creating and fitting a Kernel Ridge model along with GridSearchCV to analyze variations of all hyperparameters over 16 iterations"
   ]
  },
  {
   "cell_type": "code",
   "execution_count": 5,
   "id": "33e9a1ba-a787-416f-863f-3ed6d3824dd1",
   "metadata": {},
   "outputs": [],
   "source": [
    "# creating model using Kernel Ridge + RBF kernel w/ GridSearchCV to predict highest occupied molecular orbital energy + fitting model 16 times\n",
    "\n",
    "results = []\n",
    "num_iterations = 16 \n",
    "\n",
    "for i in range(num_iterations): \n",
    "    train_data, test_data = train_test_split(data, test_size=1000, train_size=100)\n",
    "\n",
    "    model = Pipeline([\n",
    "        ('scale', StandardScaler()), \n",
    "        ('krr', KernelRidge(kernel='rbf'))\n",
    "    ])\n",
    "\n",
    "    gs = GridSearchCV(\n",
    "        model, \n",
    "        {'krr__gamma': np.logspace(-6, 0, 16), 'krr__alpha': np.logspace(-6, 0, 16)}, \n",
    "        cv = 10,\n",
    "        scoring= 'neg_mean_squared_error'\n",
    "    )\n",
    "\n",
    "    gs.fit(np.vstack(train_data['cm']), train_data['u0_atom'])\n",
    "    model = gs.best_estimator_\n",
    "    model.fit(np.vstack(train_data['cm']), train_data['u0_atom'])\n",
    "    y_pred = model.predict(np.vstack(test_data['cm']))\n",
    "    \n",
    "    # saving results (issue: appending dictionary to dataframe causes errors)\n",
    "    \n",
    "    results.append({\n",
    "        'gamma': gs.best_params_['krr__gamma'],\n",
    "        'alpha': gs.best_params_['krr__alpha'],\n",
    "        'mae': mean_absolute_error(y_pred, test_data['u0_atom'])\n",
    "    })\n",
    "      "
   ]
  },
  {
   "cell_type": "code",
   "execution_count": 6,
   "id": "9d9d6035-13a0-4d85-ba82-426187adafe8",
   "metadata": {},
   "outputs": [],
   "source": [
    "results = pd.DataFrame(results)"
   ]
  },
  {
   "cell_type": "code",
   "execution_count": 7,
   "id": "708b219c-7b16-4780-b582-e09471e1634e",
   "metadata": {},
   "outputs": [
    {
     "data": {
      "image/png": "[encoded data removed]",
      "text/plain": [
       "<Figure size 432x288 with 1 Axes>"
      ]
     },
     "metadata": {
      "needs_background": "light"
     },
     "output_type": "display_data"
    }
   ],
   "source": [
    "# variations of gamma parameter as data subsets change\n",
    "plt.hist(results['gamma'])\n",
    "plt.title('Variations of Gamma Values After 16 iterations')\n",
    "plt.xlabel('Gamma Value')\n",
    "plt.ylabel('Frequency')\n",
    "plt.show()"
   ]
  },
  {
   "cell_type": "code",
   "execution_count": 8,
   "id": "07c087c6-25f4-4974-8ead-693cc028f16e",
   "metadata": {},
   "outputs": [
    {
     "data": {
      "image/png": "[encoded data removed]",
      "text/plain": [
       "<Figure size 432x288 with 1 Axes>"
      ]
     },
     "metadata": {
      "needs_background": "light"
     },
     "output_type": "display_data"
    }
   ],
   "source": [
    "# variations of alpha parameter as data subsets change\n",
    "plt.hist(results['alpha'])\n",
    "plt.title('Variations of Alpha Values After 16 iterations')\n",
    "plt.xlabel('Alpha Value')\n",
    "plt.ylabel('Frequency')\n",
    "plt.show()"
   ]
  },
  {
   "cell_type": "code",
   "execution_count": 9,
   "id": "3cad9b64-6bf8-4ec6-a8eb-7e2768ebf4a1",
   "metadata": {},
   "outputs": [
    {
     "data": {
      "image/png": "[encoded data removed]",
      "text/plain": [
       "<Figure size 432x288 with 1 Axes>"
      ]
     },
     "metadata": {
      "needs_background": "light"
     },
     "output_type": "display_data"
    }
   ],
   "source": [
    "# variations of mae as data subsets change\n",
    "plt.hist(results['mae'])\n",
    "plt.title('Variations of MAE After 16 iterations')\n",
    "plt.xlabel('MAE')\n",
    "plt.ylabel('Frequency')\n",
    "plt.show()"
   ]
  },
  {
   "cell_type": "markdown",
   "id": "a293ae7c-c7a5-4e51-ac24-8f1e44c85fe2",
   "metadata": {},
   "source": [
    "#### Computing a learning curve analyzing the impact of training set size on model accuracy, training time, and inference times!"
   ]
  },
  {
   "cell_type": "code",
   "execution_count": 10,
   "id": "eef0af90-eb49-451e-8743-441237f3ac05",
   "metadata": {},
   "outputs": [],
   "source": [
    "# setting up three different training sizes for learning curve\n",
    "train_size = [10, 100, 1000]\n",
    "\n",
    "# setting up general test and training sets\n",
    "\n",
    "train_data, test_data = train_test_split(data, test_size=1000, random_state=1)\n",
    "test_data = test_data.copy()\n",
    "\n",
    "# repeating fitting four times for each training size \n",
    "num_iterations = 4\n",
    "\n",
    "# importing time function to measure train + test time\n",
    "from time import perf_counter\n",
    "\n",
    "# setting up model pipeline WITH GridSearch CV\n",
    "\n",
    "model = Pipeline([\n",
    "        ('scale', StandardScaler()), \n",
    "        ('krr', KernelRidge(kernel='rbf'))\n",
    "    ])\n",
    "\n",
    "gs = GridSearchCV(\n",
    "        model, \n",
    "        {'krr__gamma': np.logspace(-6, 0, 16), 'krr__alpha': np.logspace(-6, 0, 16)}, \n",
    "        cv = 10,\n",
    "        scoring= 'neg_mean_squared_error'\n",
    "    )\n",
    "\n",
    "# importing tqdm function\n",
    "from tqdm import tqdm"
   ]
  },
  {
   "cell_type": "code",
   "execution_count": 11,
   "id": "3a25aac5-9baa-4e14-abc5-555e9c57591d",
   "metadata": {},
   "outputs": [
    {
     "name": "stderr",
     "output_type": "stream",
     "text": [
      "100%|████████████████████████████████████████████████████████████████████████████████████| 3/3 [01:17<00:00, 25.93s/it]\n",
      "100%|████████████████████████████████████████████████████████████████████████████████████| 3/3 [01:18<00:00, 26.13s/it]\n",
      "100%|████████████████████████████████████████████████████████████████████████████████████| 3/3 [01:18<00:00, 26.28s/it]\n",
      "100%|████████████████████████████████████████████████████████████████████████████████████| 3/3 [01:19<00:00, 26.44s/it]\n"
     ]
    }
   ],
   "source": [
    "results = []\n",
    "for i in range(num_iterations):\n",
    "    for ts in tqdm(train_size): \n",
    "        # changing training data size\n",
    "        train_subset = train_data.sample(ts, random_state=1)\n",
    "\n",
    "        # measuring train time\n",
    "        train_time = perf_counter()\n",
    "        gs.fit(np.vstack(train_subset['cm']), train_subset['u0_atom'])\n",
    "        model = gs.best_estimator_\n",
    "        model.fit(np.vstack(train_subset['cm']), train_subset['u0_atom'])\n",
    "        train_time = perf_counter() - train_time\n",
    "\n",
    "        # measuring test/inference time\n",
    "        test_time = perf_counter()\n",
    "        y_pred = model.predict(np.vstack(test_data['cm']))\n",
    "        test_time = perf_counter() - test_time\n",
    "\n",
    "        # storing results\n",
    "        results.append({\n",
    "            'train_size': ts,\n",
    "            'train_time': train_time,\n",
    "            'test_time': test_time,\n",
    "            'mae': mean_absolute_error(y_pred, test_data['u0_atom'])\n",
    "        })\n",
    "            "
   ]
  },
  {
   "cell_type": "code",
   "execution_count": 12,
   "id": "a04c0aba-32ba-4ba9-baf8-cb2a39b6b2a3",
   "metadata": {},
   "outputs": [],
   "source": [
    "results = pd.DataFrame(results)"
   ]
  },
  {
   "cell_type": "code",
   "execution_count": 13,
   "id": "7a5f5c12-b7e5-4a22-975d-11a4db82a6a0",
   "metadata": {},
   "outputs": [
    {
     "data": {
      "image/png": "[encoded data removed]",
      "text/plain": [
       "<Figure size 648x216 with 3 Axes>"
      ]
     },
     "metadata": {
      "needs_background": "light"
     },
     "output_type": "display_data"
    }
   ],
   "source": [
    "# graphing change of MAE as training size increases\n",
    "\n",
    "fig, axs = plt.subplots(1, 3, figsize=(9, 3.))\n",
    "avg_data = results.groupby('train_size').mean()\n",
    "\n",
    "ax = axs[0]\n",
    "ax.loglog(avg_data.index, avg_data['mae'])\n",
    "ax.set_xlabel('Train Size')\n",
    "ax.set_ylabel('MAE')\n",
    "ax.set_title('Model Accuracy')\n",
    "\n",
    "# graphing change of training time as training size increases\n",
    "\n",
    "ax = axs[1]\n",
    "ax.loglog(avg_data.index, avg_data['train_time'])\n",
    "ax.set_xlabel('Train Size')\n",
    "ax.set_ylabel('Train Time(s)')\n",
    "ax.set_title('Training Size vs. Training Time')\n",
    "\n",
    "# graphing change in inference time as training size increases\n",
    "\n",
    "ax = axs[2]\n",
    "ax.loglog(avg_data.index, avg_data['test_time'])\n",
    "ax.set_xlabel('Train Size')\n",
    "ax.set_ylabel('Test Time (s)')\n",
    "ax.set_title('Training Size vs. Inference Time')\n",
    "\n",
    "fig.tight_layout()"
   ]
  },
  {
   "cell_type": "markdown",
   "id": "957d525f-75a7-4825-8ff8-c24f5a6c543c",
   "metadata": {
    "tags": []
   },
   "source": [
    "### Optimizing Training Data Using Genetic Algorithms"
   ]
  },
  {
   "cell_type": "code",
   "execution_count": 14,
   "id": "95b0f1b2-81c7-4d1d-96c8-8808bfd08af7",
   "metadata": {},
   "outputs": [],
   "source": [
    "# separating out validation set from training set\n",
    "\n",
    "valid_data = train_data.sample(1000)\n",
    "\n",
    "# creating function to quickly produce score of model based on indices of inputted points\n",
    "\n",
    "def evaluate_subset(points: list, model, train_data: pd.DataFrame, test_data: pd.DataFrame) -> float: \n",
    "    \"\"\"Test a subset of points\n",
    "    \n",
    "    Args:\n",
    "        points: Which points from the train_data to sample\n",
    "        model: Model to use for testing\n",
    "        train_data: All available training points\n",
    "        test_data: Data used to test the model\n",
    "    Returns:\n",
    "        MAE on the test set\n",
    "    \"\"\"\n",
    "    # getting training data based on indices\n",
    "    train_subset = train_data.iloc[points]\n",
    "    \n",
    "    # fitting the model\n",
    "    model = model.fit(np.vstack(train_subset['cm']), train_subset['u0_atom'])\n",
    "    \n",
    "    # predicting points\n",
    "    y_pred = model.predict(np.vstack(test_data['cm']))\n",
    "    \n",
    "    # producing score of model\n",
    "    mae = mean_absolute_error(y_pred, test_data['u0_atom'])\n",
    "    \n",
    "    return mae"
   ]
  },
  {
   "cell_type": "markdown",
   "id": "ce2754d8-108f-48bc-9824-1500e5981c40",
   "metadata": {},
   "source": [
    "Note: the following genetic algorithm was used from an outside source (just wanted to see whether or not implementing a genetic algorithm would improve the model performance)"
   ]
  },
  {
   "cell_type": "code",
   "execution_count": 15,
   "id": "05b2e4b4-4013-49d3-8178-b37fc88a7e17",
   "metadata": {},
   "outputs": [],
   "source": [
    "import random\n",
    "from random import sample\n",
    "\n",
    "def mutate(points: set, total: int, fraction: float = 0.1) -> set:    \n",
    "    \"\"\"Mutate a set of points\n",
    "    \n",
    "    Mutates from selecting points randomly from the dataset\n",
    "    \n",
    "    Args:\n",
    "        points: Set of points to be mutated\n",
    "        total: Total number of samples to choose from in dataset\n",
    "        fraction: How many points to re-select\n",
    "    \"\"\"\n",
    "    \n",
    "    # Remove the desired amount of points\n",
    "    n_to_remove = int(len(points) * fraction)\n",
    "    to_remove = sample(points, k=n_to_remove)\n",
    "    new_points = points.difference(to_remove)\n",
    "    \n",
    "    # Add more points to the set\n",
    "    available_choices = set(range(total)).difference(new_points)\n",
    "    new_points.update(sample(available_choices, n_to_remove))\n",
    "    \n",
    "    return new_points\n",
    "\n",
    "def crossover(parent_a: set, parent_b: set):\n",
    "    \"\"\"Perform a crossover operation\n",
    "    \n",
    "    Randomly chooses points from both parents\n",
    "    \n",
    "    Args:\n",
    "        parent_a: One choice of points\n",
    "        parent_b: Another choice of points\n",
    "    Returns:\n",
    "        A new set that combines both parents\n",
    "    \"\"\"\n",
    "    \n",
    "    # Combine all points from each parents\n",
    "    options = parent_a.union(parent_b)\n",
    "    \n",
    "    # Pick randomly from the combined set\n",
    "    return set(sample(options, len(parent_a)))"
   ]
  },
  {
   "cell_type": "code",
   "execution_count": 16,
   "id": "759017c9-fdfc-45af-a25e-33fd1951dfca",
   "metadata": {
    "tags": []
   },
   "outputs": [],
   "source": [
    "%%capture\n",
    "# Defining options\n",
    "n_generations = 50\n",
    "pop_size = 8\n",
    "dataset_size = 100\n",
    "\n",
    "# Array in which to store all results\n",
    "all_options = []\n",
    "\n",
    "# Make an initial population\n",
    "#  Creates sets where each have different entries pull from the full dataset\n",
    "population = np.array([set(sample(range(len(train_data)), k=100)) for i in range(pop_size)])\n",
    "\n",
    "# Loop over the generations\n",
    "for gen in tqdm(range(n_generations), desc='generation'):\n",
    "    # Score each member of the population\n",
    "    scores = [\n",
    "        evaluate_subset(list(s), gs, train_data, valid_data) for s \n",
    "        in population\n",
    "    ]\n",
    "    \n",
    "    # Store the results in the history\n",
    "    for i, s in enumerate(population):\n",
    "        all_options.append({\n",
    "            'generation': gen,\n",
    "            'points': s,\n",
    "            'score': scores[i]\n",
    "        })\n",
    "        \n",
    "    # Sort scores and pick the best quarter\n",
    "    ranks = np.argsort(scores)\n",
    "    best_members = population[ranks[:pop_size // 4]]\n",
    "    \n",
    "    # Create new members by crossover and mutation\n",
    "    new_population = []\n",
    "    for i in range(pop_size):\n",
    "        # Pick two parents at random\n",
    "        parent_a, parent_b = random.sample(best_members.tolist(), 2)\n",
    "        \n",
    "        # Form a new member by crossover\n",
    "        new_member = crossover(parent_a, parent_b)\n",
    "        \n",
    "        # Mutate it for good measure\n",
    "        new_population.append(\n",
    "            mutate(new_member, total=len(train_data))\n",
    "        )\n",
    "    \n",
    "    # Replace population with new population\n",
    "    population = np.array(new_population)"
   ]
  },
  {
   "cell_type": "code",
   "execution_count": 17,
   "id": "c72f5c72-9e1c-41ee-ad7f-f8d6c8ea5cc3",
   "metadata": {},
   "outputs": [
    {
     "data": {
      "text/plain": [
       "Text(0.5, 1.0, 'Best Scores as a Function of Generation')"
      ]
     },
     "execution_count": 17,
     "metadata": {},
     "output_type": "execute_result"
    },
    {
     "data": {
      "image/png": "[encoded data removed]",
      "text/plain": [
       "<Figure size 432x288 with 1 Axes>"
      ]
     },
     "metadata": {
      "needs_background": "light"
     },
     "output_type": "display_data"
    }
   ],
   "source": [
    "# plotting best score as a function of generation\n",
    "\n",
    "# converting all_options into a dataframe\n",
    "all_options = pd.DataFrame(all_options)\n",
    "\n",
    "# finding best score for each generation\n",
    "\n",
    "best_scores = all_options.groupby('generation')['score']\n",
    "best_scores = best_scores.aggregate(['min'])\n",
    "\n",
    "# plotting points for each generation\n",
    "fig, ax = plt.subplots()\n",
    "plt.scatter(best_scores.index, best_scores)\n",
    "ax.set_xlabel('Generation')\n",
    "ax.set_ylabel('MAE')\n",
    "ax.set_title('Best Scores as a Function of Generation')"
   ]
  },
  {
   "cell_type": "code",
   "execution_count": 18,
   "id": "c882e610-c79c-4602-a3b4-6ac5605aeef3",
   "metadata": {},
   "outputs": [
    {
     "data": {
      "text/plain": [
       "<matplotlib.collections.PathCollection at 0x268a11535e0>"
      ]
     },
     "execution_count": 18,
     "metadata": {},
     "output_type": "execute_result"
    },
    {
     "data": {
      "image/png": "[encoded data removed]",
      "text/plain": [
       "<Figure size 432x288 with 1 Axes>"
      ]
     },
     "metadata": {
      "needs_background": "light"
     },
     "output_type": "display_data"
    }
   ],
   "source": [
    "# graphing change of MAE as training size increases\n",
    "\n",
    "fig, ax = plt.subplots()\n",
    "avg_data = results.groupby('train_size').mean()\n",
    "\n",
    "ax.loglog(avg_data.index, avg_data['mae'])\n",
    "ax.set_xlabel('Train Size')\n",
    "ax.set_ylabel('MAE')\n",
    "ax.set_title('Model Accuracy')\n",
    "\n",
    "plt.scatter(100, best_scores.iloc[49]['min'])"
   ]
  },
  {
   "cell_type": "markdown",
   "id": "5af3c2b3-9c52-4343-8c9e-58ea0764a8f6",
   "metadata": {},
   "source": [
    "#### Conclusions: \n",
    "\n",
    "1. Hyperparameters slightly change as we change the training subsets in order to minimize mean absolute error and maximize model accuracy, emphasizing the importance of always using hyperparameter optimization when refitting models!\n",
    "\n",
    "2. Genetic algorithms slightly improves model performance when compared with the mean absolute error of the model without the optimized training set. "
   ]
  }
 ],
 "metadata": {
  "kernelspec": {
   "display_name": "Python 3 (ipykernel)",
   "language": "python",
   "name": "python3"
  },
  "language_info": {
   "codemirror_mode": {
    "name": "ipython",
    "version": 3
   },
   "file_extension": ".py",
   "mimetype": "text/x-python",
   "name": "python",
   "nbconvert_exporter": "python",
   "pygments_lexer": "ipython3",
   "version": "3.9.12"
  }
 },
 "nbformat": 4,
 "nbformat_minor": 5
}
