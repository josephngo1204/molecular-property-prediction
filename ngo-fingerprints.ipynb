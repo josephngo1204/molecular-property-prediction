{
 "cells": [
  {
   "cell_type": "markdown",
   "id": "c89ea80f-fe6e-4e75-b068-d17ed4984a90",
   "metadata": {
    "tags": []
   },
   "source": [
    "## Molecular Fingerprints\n",
    "\n",
    "using k-Nearest Neighbors model + recursive feature elimination with molecular fingerprints to predict its bandgap!"
   ]
  },
  {
   "cell_type": "code",
   "execution_count": 1,
   "id": "7e702b7d-0948-4c70-9d0d-b9f5707c9f91",
   "metadata": {},
   "outputs": [],
   "source": [
    "%matplotlib inline  \n",
    "from matplotlib import pyplot as plt\n",
    "from sklearn.model_selection import train_test_split\n",
    "from sklearn.neighbors import KNeighborsRegressor\n",
    "from sklearn.pipeline import Pipeline\n",
    "from sklearn.metrics import r2_score, mean_absolute_error\n",
    "from sklearn.base import BaseEstimator, TransformerMixin\n",
    "from rdkit.Chem import AllChem\n",
    "from rdkit import DataStructs\n",
    "from rdkit import Chem\n",
    "from tqdm import tqdm\n",
    "import pandas as pd\n",
    "import numpy as np\n",
    "import json"
   ]
  },
  {
   "cell_type": "markdown",
   "id": "06ad1a0c-1491-4f1d-82c8-66ffb5738f2e",
   "metadata": {},
   "source": [
    "##### uploading QM9 dataset + creating train and test datasets"
   ]
  },
  {
   "cell_type": "code",
   "execution_count": 2,
   "id": "d8dd8a25-152d-447c-b629-e54af4e307a6",
   "metadata": {},
   "outputs": [],
   "source": [
    "data = pd.read_json('../datasets/qm9.json.gz', lines=True)\n",
    "train_data, test_data = train_test_split(data, train_size=1000, test_size=2000)"
   ]
  },
  {
   "cell_type": "markdown",
   "id": "53e4d006-392a-4344-9fc9-441efcf4e4ec",
   "metadata": {},
   "source": [
    "#### Defining classes to compute and transform fingerprints"
   ]
  },
  {
   "cell_type": "code",
   "execution_count": 3,
   "id": "71d734ba-ca30-44c9-a387-0fc54a9c060c",
   "metadata": {},
   "outputs": [],
   "source": [
    "def compute_morgan_fingerprints(smiles: str, fingerprint_length: int, fingerprint_radius: int):\n",
    "    \"\"\"Get Morgan Fingerprint of a specific SMILES string.\n",
    "    Adapted from: <https://github.com/google-research/google-research/blob/\n",
    "    dfac4178ccf521e8d6eae45f7b0a33a6a5b691ee/mol_dqn/chemgraph/dqn/deep_q_networks.py#L750>\n",
    "    Args:\n",
    "      graph (str): The molecule as a SMILES string\n",
    "      fingerprint_length (int): Bit-length of fingerprint\n",
    "      fingerprint_radius (int): Radius used to compute fingerprint\n",
    "    Returns:\n",
    "      np.array. shape = [hparams, fingerprint_length]. The Morgan fingerprint.\n",
    "    \"\"\"\n",
    "    # Parse the molecule\n",
    "    molecule = Chem.MolFromSmiles(smiles)\n",
    "\n",
    "    # Compute the fingerprint\n",
    "    fingerprint = AllChem.GetMorganFingerprintAsBitVect(\n",
    "        molecule, fingerprint_radius, fingerprint_length)\n",
    "    arr = np.zeros((1,), dtype=bool)\n",
    "\n",
    "    # ConvertToNumpyArray takes ~ 0.19 ms, while\n",
    "    # np.asarray takes ~ 4.69 ms\n",
    "    DataStructs.ConvertToNumpyArray(fingerprint, arr)\n",
    "    return arr"
   ]
  },
  {
   "cell_type": "code",
   "execution_count": 4,
   "id": "6d521bbb-d4cc-4988-a732-32973b2dc833",
   "metadata": {},
   "outputs": [],
   "source": [
    "class MorganFingerprintTransformer(BaseEstimator, TransformerMixin):\n",
    "    \"\"\"Class that converts SMILES strings to fingerprint vectors\"\"\"\n",
    "    \n",
    "    def __init__(self, length: int = 256, radius: int = 4):\n",
    "        self.length = length\n",
    "        self.radius = radius\n",
    "    \n",
    "    def fit(self, X, y=None):\n",
    "        return self  # Do need to do anything\n",
    "    \n",
    "    def transform(self, X, y=None):\n",
    "        \"\"\"Compute the fingerprints\n",
    "        \n",
    "        Args:\n",
    "            X: List of SMILES strings\n",
    "        Returns:\n",
    "            Array of fingerprints\n",
    "        \"\"\"\n",
    "        \n",
    "        fing = [compute_morgan_fingerprints(m, self.length, self.radius) for m in X]\n",
    "        return np.vstack(fing)"
   ]
  },
  {
   "cell_type": "markdown",
   "id": "f146d740-bc88-4da6-9984-cdbe2a51a678",
   "metadata": {},
   "source": [
    "##### Setting fingerprint length of 128 bits and radius of 3 (determines the scope of the chemical interactions of each atom)"
   ]
  },
  {
   "cell_type": "code",
   "execution_count": 5,
   "id": "0b206e45-f466-45a4-854e-f31b8be0c99e",
   "metadata": {},
   "outputs": [],
   "source": [
    "m = MorganFingerprintTransformer(4, 4)\n",
    "m.length = 128\n",
    "m.radius = 3"
   ]
  },
  {
   "cell_type": "code",
   "execution_count": 6,
   "id": "18783da6-85c0-4c6b-90f5-dbec57125ac8",
   "metadata": {},
   "outputs": [],
   "source": [
    "test_fng = m.transform(test_data['smiles_0']) # transforming train and test datasets into Morgan fingerprints\n",
    "train_fng = m.transform(train_data['smiles_0'])"
   ]
  },
  {
   "cell_type": "markdown",
   "id": "9f529e8a-74a6-4eac-aeee-d3bcf30069c2",
   "metadata": {},
   "source": [
    "#### Plotting a learning curve to analyze the relationship between the number of neighbors and mean absolute error!"
   ]
  },
  {
   "cell_type": "code",
   "execution_count": 7,
   "id": "7735d414-8e9d-4eeb-a844-268f40c7d056",
   "metadata": {},
   "outputs": [
    {
     "name": "stderr",
     "output_type": "stream",
     "text": [
      "100%|████████████████████████████████████████████████████████████████████████████████████| 8/8 [02:14<00:00, 16.76s/it]\n"
     ]
    }
   ],
   "source": [
    "from tqdm import tqdm\n",
    "from sklearn.metrics import r2_score, mean_absolute_error\n",
    "\n",
    "results = []\n",
    "\n",
    "for n in tqdm([1, 2, 4, 8, 16, 32, 64, 128]):  # loop over different training set sizes\n",
    "    for i in range(16):  # repeat the experiment\n",
    "\n",
    "            # train and test the model\n",
    "            krr = KNeighborsRegressor(n_neighbors = n, metric='jaccard')\n",
    "            knn = krr.fit(train_fng, train_data['bandgap'])\n",
    "            y_pred = knn.predict(test_fng)\n",
    "\n",
    "            results.append({\n",
    "                'n_neighbors': n,\n",
    "                'iteration': i,\n",
    "                'r2_score': r2_score(test_data['bandgap'], y_pred),\n",
    "                'mae': mean_absolute_error(test_data['bandgap'], y_pred)\n",
    "            })\n",
    "results = pd.DataFrame(results)  # Converts to a dataframe"
   ]
  },
  {
   "cell_type": "code",
   "execution_count": 8,
   "id": "04e05c88-eb86-4de3-b85e-d9b403c8a9bb",
   "metadata": {},
   "outputs": [
    {
     "data": {
      "image/png": "[encoded data removed]",
      "text/plain": [
       "<Figure size 432x288 with 1 Axes>"
      ]
     },
     "metadata": {
      "needs_background": "light"
     },
     "output_type": "display_data"
    }
   ],
   "source": [
    "fig, ax = plt.subplots()\n",
    "\n",
    "group_stats = results.groupby('n_neighbors').mean()\n",
    "    \n",
    "ax.loglog(group_stats.index, group_stats['mae'], '--o', label=f'kNN Regression')\n",
    "    \n",
    "ax.legend()\n",
    "\n",
    "ax.set_xlabel('Number of Neighbors')\n",
    "ax.set_ylabel('MAE')\n",
    "fig.tight_layout()"
   ]
  },
  {
   "cell_type": "markdown",
   "id": "10cf7a7d-3bd6-45d5-8537-828acac3165e",
   "metadata": {},
   "source": [
    "#### Adding recursive feature elimination to k-Nearest Neighbors model + plotting another learning curve!"
   ]
  },
  {
   "cell_type": "code",
   "execution_count": 9,
   "id": "4bb1756c-01b8-4d6e-807a-c76db207c81e",
   "metadata": {},
   "outputs": [],
   "source": [
    "from sklearn.feature_selection import RFE \n",
    "from sklearn.ensemble import RandomForestRegressor"
   ]
  },
  {
   "cell_type": "code",
   "execution_count": 10,
   "id": "9932ba3e-42f7-4172-9565-1ba721c3f6ba",
   "metadata": {},
   "outputs": [],
   "source": [
    "model = Pipeline([ # condensing all steps into a pipeline for easier training\n",
    "    ('fingerprint', MorganFingerprintTransformer()),\n",
    "    ('rfe_method', RFE(estimator=RandomForestRegressor(), n_features_to_select=32, step=4)),\n",
    "    ('knn', KNeighborsRegressor(metric='jaccard', n_jobs=-1))  # n_jobs = -1 lets the model run all available processors\n",
    "])"
   ]
  },
  {
   "cell_type": "code",
   "execution_count": 12,
   "id": "b0c94105-9854-4bb2-9d13-8c9dc156dfca",
   "metadata": {
    "tags": []
   },
   "outputs": [
    {
     "name": "stderr",
     "output_type": "stream",
     "text": [
      "100%|█████████████████████████████████████████████████████████████████████████████████| 8/8 [2:08:45<00:00, 965.74s/it]\n"
     ]
    }
   ],
   "source": [
    "from tqdm import tqdm\n",
    "from sklearn.metrics import r2_score, mean_absolute_error\n",
    "\n",
    "results = []\n",
    "\n",
    "for n in tqdm([1, 2, 4, 8, 16, 32, 64, 128]):  # ;oop over different training set sizes\n",
    "    for i in range(16):  # repeat the experiment\n",
    "            model.set_params(knn__n_neighbors=n)\n",
    "            # train and test the model\n",
    "            model.fit(train_data['smiles_0'], train_data['bandgap'])\n",
    "            y_pred = model.predict(test_data['smiles_0'])\n",
    "\n",
    "            results.append({\n",
    "                'n_neighbors': n,\n",
    "                'iteration': i,\n",
    "                'r2_score': r2_score(test_data['bandgap'], y_pred),\n",
    "                'mae': mean_absolute_error(test_data['bandgap'], y_pred)\n",
    "            })\n",
    "results = pd.DataFrame(results)  # converts to a dataframe"
   ]
  },
  {
   "cell_type": "code",
   "execution_count": 13,
   "id": "96cdddaa-8f05-4af8-9976-9aeee03addea",
   "metadata": {},
   "outputs": [
    {
     "data": {
      "image/png": "[encoded data removed]",
      "text/plain": [
       "<Figure size 432x288 with 1 Axes>"
      ]
     },
     "metadata": {
      "needs_background": "light"
     },
     "output_type": "display_data"
    }
   ],
   "source": [
    "fig, ax = plt.subplots()\n",
    "\n",
    "group_stats = results.groupby('n_neighbors').mean()\n",
    "    \n",
    "ax.loglog(group_stats.index, group_stats['mae'], '--o', label=f'kNN Regression w/ RFE')\n",
    "    \n",
    "ax.legend()\n",
    "\n",
    "ax.set_xlabel('Number of Neighbors')\n",
    "ax.set_ylabel('MAE')\n",
    "fig.tight_layout()"
   ]
  },
  {
   "cell_type": "markdown",
   "id": "3af64781-a996-459a-8268-798a283a4bba",
   "metadata": {},
   "source": [
    "### Conclusions: \n",
    "\n",
    "1. Adding recursive feature elimination lowers the MAE at the optimized number of neighbors for kNN!\n",
    "\n",
    "2. Feature selection improved this model because general-purpose distance metrics can be heavily sensitive to outliers, which can drastically skew the data especially considering that this model lacks the ability to identify feature relevance without any future selection. By identifying particular data points that represent the dataset more accurately, it reduces the influence of outliers, thus improving the model's accuracy. "
   ]
  }
 ],
 "metadata": {
  "kernelspec": {
   "display_name": "Python 3 (ipykernel)",
   "language": "python",
   "name": "python3"
  },
  "language_info": {
   "codemirror_mode": {
    "name": "ipython",
    "version": 3
   },
   "file_extension": ".py",
   "mimetype": "text/x-python",
   "name": "python",
   "nbconvert_exporter": "python",
   "pygments_lexer": "ipython3",
   "version": "3.9.12"
  }
 },
 "nbformat": 4,
 "nbformat_minor": 5
}
